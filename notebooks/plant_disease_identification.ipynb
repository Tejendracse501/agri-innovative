{
 "cells": [
  {
   "cell_type": "markdown",
   "id": "b35dcf9f",
   "metadata": {},
   "source": [
    "# Plant Disease Identification"
   ]
  },
  {
   "cell_type": "markdown",
   "id": "1fb8db92",
   "metadata": {},
   "source": [
    "This Jupyter Notebook aims to implement a Convolutional Neural Network (CNN) for the identification of plant diseases based on images. Accurate and timely identification of plant diseases is crucial for effective agricultural management, enabling early intervention and mitigation strategies."
   ]
  },
  {
   "cell_type": "markdown",
   "id": "542fc9c0",
   "metadata": {},
   "source": [
    "## About Dataset"
   ]
  },
  {
   "cell_type": "markdown",
   "id": "334c150c",
   "metadata": {},
   "source": [
    "This dataset is recreated using offline augmentation from the original dataset. The original dataset can be found on this github repo. This dataset consists of about 87K rgb images of healthy and diseased crop leaves which is categorized into 38 different classes. The total dataset is divided into 80/20 ratio of training and validation set preserving the directory structure. A new directory containing 33 test images is created later for prediction purpose."
   ]
  },
  {
   "cell_type": "markdown",
   "id": "57e9c649",
   "metadata": {},
   "source": [
    "## Importing Necessary Libraries"
   ]
  },
  {
   "cell_type": "code",
   "execution_count": 1,
   "id": "f7d15a93",
   "metadata": {},
   "outputs": [
    {
     "name": "stderr",
     "output_type": "stream",
     "text": [
      "2024-02-03 10:10:01.740403: E external/local_xla/xla/stream_executor/cuda/cuda_dnn.cc:9261] Unable to register cuDNN factory: Attempting to register factory for plugin cuDNN when one has already been registered\n",
      "2024-02-03 10:10:01.740461: E external/local_xla/xla/stream_executor/cuda/cuda_fft.cc:607] Unable to register cuFFT factory: Attempting to register factory for plugin cuFFT when one has already been registered\n",
      "2024-02-03 10:10:01.742596: E external/local_xla/xla/stream_executor/cuda/cuda_blas.cc:1515] Unable to register cuBLAS factory: Attempting to register factory for plugin cuBLAS when one has already been registered\n",
      "2024-02-03 10:10:01.754090: I tensorflow/core/platform/cpu_feature_guard.cc:182] This TensorFlow binary is optimized to use available CPU instructions in performance-critical operations.\n",
      "To enable the following instructions: AVX2 FMA, in other operations, rebuild TensorFlow with the appropriate compiler flags.\n",
      "2024-02-03 10:10:03.531861: W tensorflow/compiler/tf2tensorrt/utils/py_utils.cc:38] TF-TRT Warning: Could not find TensorRT\n"
     ]
    }
   ],
   "source": [
    "import os\n",
    "import warnings\n",
    "warnings.filterwarnings('ignore')#Ignore all warnings\n",
    "\n",
    "import pandas as pd\n",
    "import tensorflow as tf              # Import TensorFlow library\n",
    "\n",
    "# Set TensorFlow logging verbosity to ERROR to suppress warnings\n",
    "tf.compat.v1.logging.set_verbosity(tf.compat.v1.logging.ERROR)\n",
    "tf.get_logger().setLevel('ERROR')  # Set logging level to ERROR\n",
    "from tensorflow.keras import layers, models  # Import specific modules from Keras, which is now part of TensorFlow\n",
    "from tensorflow.keras.preprocessing.image import ImageDataGenerator  # Import image data generator for data augmentation\n",
    "import matplotlib.pyplot as plt    # Import matplotlib for data visualization\n",
    "import pickle                       # Import pickle for saving/loading data in binary format\n"
   ]
  },
  {
   "cell_type": "markdown",
   "id": "b5187dcc",
   "metadata": {},
   "source": [
    "## Loading and Exploring the data"
   ]
  },
  {
   "cell_type": "code",
   "execution_count": 2,
   "id": "0b47af6f",
   "metadata": {},
   "outputs": [],
   "source": [
    "train_dir = \"../data/raw/plant_diseases_data/train\"\n",
    "validation_dir = \"../data/raw/plant_diseases_data/valid\"\n",
    "test_dir = \"../data/raw/plant_diseases_data/test\""
   ]
  },
  {
   "cell_type": "code",
   "execution_count": 3,
   "id": "2c774fac",
   "metadata": {},
   "outputs": [
    {
     "name": "stdout",
     "output_type": "stream",
     "text": [
      "['Apple___Apple_scab', 'Apple___Black_rot', 'Apple___Cedar_apple_rust', 'Apple___healthy', 'Blueberry___healthy', 'Cherry_(including_sour)___healthy', 'Cherry_(including_sour)___Powdery_mildew', 'Corn_(maize)___Cercospora_leaf_spot Gray_leaf_spot', 'Corn_(maize)___Common_rust_', 'Corn_(maize)___healthy', 'Corn_(maize)___Northern_Leaf_Blight', 'Grape___Black_rot', 'Grape___Esca_(Black_Measles)', 'Grape___healthy', 'Grape___Leaf_blight_(Isariopsis_Leaf_Spot)', 'Orange___Haunglongbing_(Citrus_greening)', 'Peach___Bacterial_spot', 'Peach___healthy', 'Pepper,_bell___Bacterial_spot', 'Pepper,_bell___healthy', 'Potato___Early_blight', 'Potato___healthy', 'Potato___Late_blight', 'Raspberry___healthy', 'Soybean___healthy', 'Squash___Powdery_mildew', 'Strawberry___healthy', 'Strawberry___Leaf_scorch', 'Tomato___Bacterial_spot', 'Tomato___Early_blight', 'Tomato___healthy', 'Tomato___Late_blight', 'Tomato___Leaf_Mold', 'Tomato___Septoria_leaf_spot', 'Tomato___Spider_mites Two-spotted_spider_mite', 'Tomato___Target_Spot', 'Tomato___Tomato_mosaic_virus', 'Tomato___Tomato_Yellow_Leaf_Curl_Virus']\n"
     ]
    }
   ],
   "source": [
    "diseases = os.listdir(train_dir)\n",
    "#printing the disease names \n",
    "print(diseases)"
   ]
  },
  {
   "cell_type": "code",
   "execution_count": 4,
   "id": "66294e49",
   "metadata": {},
   "outputs": [
    {
     "name": "stdout",
     "output_type": "stream",
     "text": [
      "Number of diseases : 38 \n"
     ]
    }
   ],
   "source": [
    "#  Printing count diseases\n",
    "print(f\"Number of diseases : {len(diseases)} \")"
   ]
  },
  {
   "cell_type": "code",
   "execution_count": 5,
   "id": "8e851fbb",
   "metadata": {},
   "outputs": [
    {
     "name": "stdout",
     "output_type": "stream",
     "text": [
      "Number of Plants:14\n",
      "Unique Plant Names:['Apple', 'Blueberry', 'Cherry_(including_sour)', 'Corn_(maize)', 'Grape', 'Orange', 'Peach', 'Pepper,_bell', 'Potato', 'Raspberry', 'Soybean', 'Squash', 'Strawberry', 'Tomato']\n",
      "Number of diseases : 26\n"
     ]
    }
   ],
   "source": [
    "#finding number of unique diseases and unique plants\n",
    "plants = []\n",
    "number_of_diseases = 0\n",
    "for plant in diseases:\n",
    "    plant_name,disease = plant.split(\"___\")\n",
    "    \n",
    "    if plant_name not in plants:\n",
    "        plants.append(plant_name)\n",
    "    \n",
    "    if disease != \"healthy\":\n",
    "        number_of_diseases +=1\n",
    "        \n",
    "#Print the count of unique plants\n",
    "print(f\"Number of Plants:{len(plants)}\")\n",
    "\n",
    "#Print unique plant names\n",
    "print(f\"Unique Plant Names:{plants}\")\n",
    "\n",
    "#Print the count of diseases\n",
    "print(f\"Number of diseases : {number_of_diseases}\")\n"
   ]
  },
  {
   "cell_type": "code",
   "execution_count": 6,
   "id": "37faae2d",
   "metadata": {},
   "outputs": [
    {
     "data": {
      "text/html": [
       "<div>\n",
       "<style scoped>\n",
       "    .dataframe tbody tr th:only-of-type {\n",
       "        vertical-align: middle;\n",
       "    }\n",
       "\n",
       "    .dataframe tbody tr th {\n",
       "        vertical-align: top;\n",
       "    }\n",
       "\n",
       "    .dataframe thead th {\n",
       "        text-align: right;\n",
       "    }\n",
       "</style>\n",
       "<table border=\"1\" class=\"dataframe\">\n",
       "  <thead>\n",
       "    <tr style=\"text-align: right;\">\n",
       "      <th></th>\n",
       "      <th>Disease Name</th>\n",
       "      <th>No.of Images</th>\n",
       "    </tr>\n",
       "  </thead>\n",
       "  <tbody>\n",
       "    <tr>\n",
       "      <th>0</th>\n",
       "      <td>Apple___Apple_scab</td>\n",
       "      <td>2016</td>\n",
       "    </tr>\n",
       "    <tr>\n",
       "      <th>1</th>\n",
       "      <td>Apple___Black_rot</td>\n",
       "      <td>1987</td>\n",
       "    </tr>\n",
       "    <tr>\n",
       "      <th>2</th>\n",
       "      <td>Apple___Cedar_apple_rust</td>\n",
       "      <td>1760</td>\n",
       "    </tr>\n",
       "    <tr>\n",
       "      <th>3</th>\n",
       "      <td>Apple___healthy</td>\n",
       "      <td>2008</td>\n",
       "    </tr>\n",
       "    <tr>\n",
       "      <th>4</th>\n",
       "      <td>Blueberry___healthy</td>\n",
       "      <td>1816</td>\n",
       "    </tr>\n",
       "    <tr>\n",
       "      <th>5</th>\n",
       "      <td>Cherry_(including_sour)___healthy</td>\n",
       "      <td>1826</td>\n",
       "    </tr>\n",
       "    <tr>\n",
       "      <th>6</th>\n",
       "      <td>Cherry_(including_sour)___Powdery_mildew</td>\n",
       "      <td>1683</td>\n",
       "    </tr>\n",
       "    <tr>\n",
       "      <th>7</th>\n",
       "      <td>Corn_(maize)___Cercospora_leaf_spot Gray_leaf_...</td>\n",
       "      <td>1642</td>\n",
       "    </tr>\n",
       "    <tr>\n",
       "      <th>8</th>\n",
       "      <td>Corn_(maize)___Common_rust_</td>\n",
       "      <td>1907</td>\n",
       "    </tr>\n",
       "    <tr>\n",
       "      <th>9</th>\n",
       "      <td>Corn_(maize)___healthy</td>\n",
       "      <td>1859</td>\n",
       "    </tr>\n",
       "    <tr>\n",
       "      <th>10</th>\n",
       "      <td>Corn_(maize)___Northern_Leaf_Blight</td>\n",
       "      <td>1908</td>\n",
       "    </tr>\n",
       "    <tr>\n",
       "      <th>11</th>\n",
       "      <td>Grape___Black_rot</td>\n",
       "      <td>1888</td>\n",
       "    </tr>\n",
       "    <tr>\n",
       "      <th>12</th>\n",
       "      <td>Grape___Esca_(Black_Measles)</td>\n",
       "      <td>1920</td>\n",
       "    </tr>\n",
       "    <tr>\n",
       "      <th>13</th>\n",
       "      <td>Grape___healthy</td>\n",
       "      <td>1692</td>\n",
       "    </tr>\n",
       "    <tr>\n",
       "      <th>14</th>\n",
       "      <td>Grape___Leaf_blight_(Isariopsis_Leaf_Spot)</td>\n",
       "      <td>1722</td>\n",
       "    </tr>\n",
       "    <tr>\n",
       "      <th>15</th>\n",
       "      <td>Orange___Haunglongbing_(Citrus_greening)</td>\n",
       "      <td>2010</td>\n",
       "    </tr>\n",
       "    <tr>\n",
       "      <th>16</th>\n",
       "      <td>Peach___Bacterial_spot</td>\n",
       "      <td>1838</td>\n",
       "    </tr>\n",
       "    <tr>\n",
       "      <th>17</th>\n",
       "      <td>Peach___healthy</td>\n",
       "      <td>1728</td>\n",
       "    </tr>\n",
       "    <tr>\n",
       "      <th>18</th>\n",
       "      <td>Pepper,_bell___Bacterial_spot</td>\n",
       "      <td>1913</td>\n",
       "    </tr>\n",
       "    <tr>\n",
       "      <th>19</th>\n",
       "      <td>Pepper,_bell___healthy</td>\n",
       "      <td>1988</td>\n",
       "    </tr>\n",
       "    <tr>\n",
       "      <th>20</th>\n",
       "      <td>Potato___Early_blight</td>\n",
       "      <td>1939</td>\n",
       "    </tr>\n",
       "    <tr>\n",
       "      <th>21</th>\n",
       "      <td>Potato___healthy</td>\n",
       "      <td>1824</td>\n",
       "    </tr>\n",
       "    <tr>\n",
       "      <th>22</th>\n",
       "      <td>Potato___Late_blight</td>\n",
       "      <td>1939</td>\n",
       "    </tr>\n",
       "    <tr>\n",
       "      <th>23</th>\n",
       "      <td>Raspberry___healthy</td>\n",
       "      <td>1781</td>\n",
       "    </tr>\n",
       "    <tr>\n",
       "      <th>24</th>\n",
       "      <td>Soybean___healthy</td>\n",
       "      <td>2022</td>\n",
       "    </tr>\n",
       "    <tr>\n",
       "      <th>25</th>\n",
       "      <td>Squash___Powdery_mildew</td>\n",
       "      <td>1736</td>\n",
       "    </tr>\n",
       "    <tr>\n",
       "      <th>26</th>\n",
       "      <td>Strawberry___healthy</td>\n",
       "      <td>1824</td>\n",
       "    </tr>\n",
       "    <tr>\n",
       "      <th>27</th>\n",
       "      <td>Strawberry___Leaf_scorch</td>\n",
       "      <td>1774</td>\n",
       "    </tr>\n",
       "    <tr>\n",
       "      <th>28</th>\n",
       "      <td>Tomato___Bacterial_spot</td>\n",
       "      <td>1702</td>\n",
       "    </tr>\n",
       "    <tr>\n",
       "      <th>29</th>\n",
       "      <td>Tomato___Early_blight</td>\n",
       "      <td>1920</td>\n",
       "    </tr>\n",
       "    <tr>\n",
       "      <th>30</th>\n",
       "      <td>Tomato___healthy</td>\n",
       "      <td>1926</td>\n",
       "    </tr>\n",
       "    <tr>\n",
       "      <th>31</th>\n",
       "      <td>Tomato___Late_blight</td>\n",
       "      <td>1851</td>\n",
       "    </tr>\n",
       "    <tr>\n",
       "      <th>32</th>\n",
       "      <td>Tomato___Leaf_Mold</td>\n",
       "      <td>1882</td>\n",
       "    </tr>\n",
       "    <tr>\n",
       "      <th>33</th>\n",
       "      <td>Tomato___Septoria_leaf_spot</td>\n",
       "      <td>1745</td>\n",
       "    </tr>\n",
       "    <tr>\n",
       "      <th>34</th>\n",
       "      <td>Tomato___Spider_mites Two-spotted_spider_mite</td>\n",
       "      <td>1741</td>\n",
       "    </tr>\n",
       "    <tr>\n",
       "      <th>35</th>\n",
       "      <td>Tomato___Target_Spot</td>\n",
       "      <td>1827</td>\n",
       "    </tr>\n",
       "    <tr>\n",
       "      <th>36</th>\n",
       "      <td>Tomato___Tomato_mosaic_virus</td>\n",
       "      <td>1790</td>\n",
       "    </tr>\n",
       "    <tr>\n",
       "      <th>37</th>\n",
       "      <td>Tomato___Tomato_Yellow_Leaf_Curl_Virus</td>\n",
       "      <td>1961</td>\n",
       "    </tr>\n",
       "  </tbody>\n",
       "</table>\n",
       "</div>"
      ],
      "text/plain": [
       "                                         Disease Name  No.of Images\n",
       "0                                  Apple___Apple_scab          2016\n",
       "1                                   Apple___Black_rot          1987\n",
       "2                            Apple___Cedar_apple_rust          1760\n",
       "3                                     Apple___healthy          2008\n",
       "4                                 Blueberry___healthy          1816\n",
       "5                   Cherry_(including_sour)___healthy          1826\n",
       "6            Cherry_(including_sour)___Powdery_mildew          1683\n",
       "7   Corn_(maize)___Cercospora_leaf_spot Gray_leaf_...          1642\n",
       "8                         Corn_(maize)___Common_rust_          1907\n",
       "9                              Corn_(maize)___healthy          1859\n",
       "10                Corn_(maize)___Northern_Leaf_Blight          1908\n",
       "11                                  Grape___Black_rot          1888\n",
       "12                       Grape___Esca_(Black_Measles)          1920\n",
       "13                                    Grape___healthy          1692\n",
       "14         Grape___Leaf_blight_(Isariopsis_Leaf_Spot)          1722\n",
       "15           Orange___Haunglongbing_(Citrus_greening)          2010\n",
       "16                             Peach___Bacterial_spot          1838\n",
       "17                                    Peach___healthy          1728\n",
       "18                      Pepper,_bell___Bacterial_spot          1913\n",
       "19                             Pepper,_bell___healthy          1988\n",
       "20                              Potato___Early_blight          1939\n",
       "21                                   Potato___healthy          1824\n",
       "22                               Potato___Late_blight          1939\n",
       "23                                Raspberry___healthy          1781\n",
       "24                                  Soybean___healthy          2022\n",
       "25                            Squash___Powdery_mildew          1736\n",
       "26                               Strawberry___healthy          1824\n",
       "27                           Strawberry___Leaf_scorch          1774\n",
       "28                            Tomato___Bacterial_spot          1702\n",
       "29                              Tomato___Early_blight          1920\n",
       "30                                   Tomato___healthy          1926\n",
       "31                               Tomato___Late_blight          1851\n",
       "32                                 Tomato___Leaf_Mold          1882\n",
       "33                        Tomato___Septoria_leaf_spot          1745\n",
       "34      Tomato___Spider_mites Two-spotted_spider_mite          1741\n",
       "35                               Tomato___Target_Spot          1827\n",
       "36                       Tomato___Tomato_mosaic_virus          1790\n",
       "37             Tomato___Tomato_Yellow_Leaf_Curl_Virus          1961"
      ]
     },
     "execution_count": 6,
     "metadata": {},
     "output_type": "execute_result"
    }
   ],
   "source": [
    "#Number of images for each disease using a dictionary comprehension\n",
    "number_of_images = {disease: len(os.listdir(os.path.join(train_dir,disease))) for disease in diseases}\n",
    "\n",
    "#Convering the nums dictionary to a pandas DataFrame\n",
    "img_per_class = pd.DataFrame(list(number_of_images.items()), columns = [\"Disease Name\", \"No.of Images\"])\n",
    "\n",
    "#Display the DataFrame\n",
    "img_per_class"
   ]
  },
  {
   "cell_type": "markdown",
   "id": "62b513b5",
   "metadata": {},
   "source": [
    "## Data preprocessing and augmentation"
   ]
  },
  {
   "cell_type": "code",
   "execution_count": 8,
   "id": "54c35ecb",
   "metadata": {},
   "outputs": [],
   "source": [
    "#Data Augmentation for the trainging data\n",
    "train_datagen = ImageDataGenerator(\n",
    "    rescale = 1./255,\n",
    "    rotation_range=20,\n",
    "    width_shift_range = 0.2,\n",
    "    height_shift_range = 0.2,\n",
    "    shear_range = 0.2,\n",
    "    zoom_range = 0.2,\n",
    "    horizontal_flip = True,\n",
    "    fill_mode = 'nearest'\n",
    ")"
   ]
  },
  {
   "cell_type": "code",
   "execution_count": 9,
   "id": "c3315ab0",
   "metadata": {},
   "outputs": [
    {
     "name": "stdout",
     "output_type": "stream",
     "text": [
      "Found 70295 images belonging to 38 classes.\n"
     ]
    }
   ],
   "source": [
    "#Creating a generator for the training data\n",
    "train_generator = train_datagen.flow_from_directory(\n",
    "    train_dir,\n",
    "    target_size = (150,150),\n",
    "    batch_size = 32,\n",
    "    class_mode = 'categorical'\n",
    "\n",
    ")"
   ]
  },
  {
   "cell_type": "code",
   "execution_count": 10,
   "id": "59bbf1f6",
   "metadata": {},
   "outputs": [],
   "source": [
    "# Set up data rescaling for the validation set\n",
    "validation_datagen = ImageDataGenerator(rescale=1./255)"
   ]
  },
  {
   "cell_type": "code",
   "execution_count": 11,
   "id": "8e230ea1",
   "metadata": {},
   "outputs": [
    {
     "name": "stdout",
     "output_type": "stream",
     "text": [
      "Found 17572 images belonging to 38 classes.\n"
     ]
    }
   ],
   "source": [
    "# Create a generator for the validation set\n",
    "validation_generator = validation_datagen.flow_from_directory(\n",
    "    validation_dir,\n",
    "    target_size=(150, 150),\n",
    "    batch_size=32,\n",
    "    class_mode='categorical'\n",
    ")"
   ]
  },
  {
   "cell_type": "markdown",
   "id": "2559dffc",
   "metadata": {},
   "source": [
    "## Building a CNN Model"
   ]
  },
  {
   "cell_type": "code",
   "execution_count": 13,
   "id": "f843f149",
   "metadata": {},
   "outputs": [
    {
     "name": "stderr",
     "output_type": "stream",
     "text": [
      "2024-02-03 10:12:27.515493: W external/local_tsl/tsl/framework/bfc_allocator.cc:485] Allocator (GPU_0_bfc) ran out of memory trying to allocate 841.00MiB (rounded to 881852416)requested by op StatelessRandomUniformV2\n",
      "If the cause is memory fragmentation maybe the environment variable 'TF_GPU_ALLOCATOR=cuda_malloc_async' will improve the situation. \n",
      "Current allocation summary follows.\n",
      "Current allocation summary follows.\n",
      "2024-02-03 10:12:27.515682: I external/local_tsl/tsl/framework/bfc_allocator.cc:1039] BFCAllocator dump for GPU_0_bfc\n",
      "2024-02-03 10:12:27.515840: I external/local_tsl/tsl/framework/bfc_allocator.cc:1046] Bin (256): \tTotal Chunks: 29, Chunks in use: 29. 7.2KiB allocated for chunks. 7.2KiB in use in bin. 2.6KiB client-requested in use in bin.\n",
      "2024-02-03 10:12:27.515895: I external/local_tsl/tsl/framework/bfc_allocator.cc:1046] Bin (512): \tTotal Chunks: 30, Chunks in use: 30. 15.0KiB allocated for chunks. 15.0KiB in use in bin. 15.0KiB client-requested in use in bin.\n",
      "2024-02-03 10:12:27.515920: I external/local_tsl/tsl/framework/bfc_allocator.cc:1046] Bin (1024): \tTotal Chunks: 11, Chunks in use: 11. 12.2KiB allocated for chunks. 12.2KiB in use in bin. 11.0KiB client-requested in use in bin.\n",
      "2024-02-03 10:12:27.515940: I external/local_tsl/tsl/framework/bfc_allocator.cc:1046] Bin (2048): \tTotal Chunks: 10, Chunks in use: 10. 20.0KiB allocated for chunks. 20.0KiB in use in bin. 20.0KiB client-requested in use in bin.\n",
      "2024-02-03 10:12:27.515960: I external/local_tsl/tsl/framework/bfc_allocator.cc:1046] Bin (4096): \tTotal Chunks: 2, Chunks in use: 2. 13.5KiB allocated for chunks. 13.5KiB in use in bin. 13.5KiB client-requested in use in bin.\n",
      "2024-02-03 10:12:27.515978: I external/local_tsl/tsl/framework/bfc_allocator.cc:1046] Bin (8192): \tTotal Chunks: 0, Chunks in use: 0. 0B allocated for chunks. 0B in use in bin. 0B client-requested in use in bin.\n",
      "2024-02-03 10:12:27.515995: I external/local_tsl/tsl/framework/bfc_allocator.cc:1046] Bin (16384): \tTotal Chunks: 0, Chunks in use: 0. 0B allocated for chunks. 0B in use in bin. 0B client-requested in use in bin.\n",
      "2024-02-03 10:12:27.516011: I external/local_tsl/tsl/framework/bfc_allocator.cc:1046] Bin (32768): \tTotal Chunks: 0, Chunks in use: 0. 0B allocated for chunks. 0B in use in bin. 0B client-requested in use in bin.\n",
      "2024-02-03 10:12:27.516026: I external/local_tsl/tsl/framework/bfc_allocator.cc:1046] Bin (65536): \tTotal Chunks: 0, Chunks in use: 0. 0B allocated for chunks. 0B in use in bin. 0B client-requested in use in bin.\n",
      "2024-02-03 10:12:27.516042: I external/local_tsl/tsl/framework/bfc_allocator.cc:1046] Bin (131072): \tTotal Chunks: 0, Chunks in use: 0. 0B allocated for chunks. 0B in use in bin. 0B client-requested in use in bin.\n",
      "2024-02-03 10:12:27.516064: I external/local_tsl/tsl/framework/bfc_allocator.cc:1046] Bin (262144): \tTotal Chunks: 3, Chunks in use: 2. 853.5KiB allocated for chunks. 576.0KiB in use in bin. 576.0KiB client-requested in use in bin.\n",
      "2024-02-03 10:12:27.516083: I external/local_tsl/tsl/framework/bfc_allocator.cc:1046] Bin (524288): \tTotal Chunks: 7, Chunks in use: 4. 3.90MiB allocated for chunks. 2.25MiB in use in bin. 2.25MiB client-requested in use in bin.\n",
      "2024-02-03 10:12:27.516101: I external/local_tsl/tsl/framework/bfc_allocator.cc:1046] Bin (1048576): \tTotal Chunks: 2, Chunks in use: 2. 2.25MiB allocated for chunks. 2.25MiB in use in bin. 2.25MiB client-requested in use in bin.\n",
      "2024-02-03 10:12:27.516117: I external/local_tsl/tsl/framework/bfc_allocator.cc:1046] Bin (2097152): \tTotal Chunks: 1, Chunks in use: 0. 2.25MiB allocated for chunks. 0B in use in bin. 0B client-requested in use in bin.\n",
      "2024-02-03 10:12:27.516137: I external/local_tsl/tsl/framework/bfc_allocator.cc:1046] Bin (4194304): \tTotal Chunks: 4, Chunks in use: 2. 19.12MiB allocated for chunks. 9.00MiB in use in bin. 9.00MiB client-requested in use in bin.\n",
      "2024-02-03 10:12:27.516153: I external/local_tsl/tsl/framework/bfc_allocator.cc:1046] Bin (8388608): \tTotal Chunks: 0, Chunks in use: 0. 0B allocated for chunks. 0B in use in bin. 0B client-requested in use in bin.\n",
      "2024-02-03 10:12:27.516169: I external/local_tsl/tsl/framework/bfc_allocator.cc:1046] Bin (16777216): \tTotal Chunks: 0, Chunks in use: 0. 0B allocated for chunks. 0B in use in bin. 0B client-requested in use in bin.\n",
      "2024-02-03 10:12:27.516184: I external/local_tsl/tsl/framework/bfc_allocator.cc:1046] Bin (33554432): \tTotal Chunks: 0, Chunks in use: 0. 0B allocated for chunks. 0B in use in bin. 0B client-requested in use in bin.\n",
      "2024-02-03 10:12:27.516200: I external/local_tsl/tsl/framework/bfc_allocator.cc:1046] Bin (67108864): \tTotal Chunks: 0, Chunks in use: 0. 0B allocated for chunks. 0B in use in bin. 0B client-requested in use in bin.\n",
      "2024-02-03 10:12:27.516220: I external/local_tsl/tsl/framework/bfc_allocator.cc:1046] Bin (134217728): \tTotal Chunks: 0, Chunks in use: 0. 0B allocated for chunks. 0B in use in bin. 0B client-requested in use in bin.\n",
      "2024-02-03 10:12:27.516239: I external/local_tsl/tsl/framework/bfc_allocator.cc:1046] Bin (268435456): \tTotal Chunks: 3, Chunks in use: 2. 2.18GiB allocated for chunks. 1.64GiB in use in bin. 1.64GiB client-requested in use in bin.\n",
      "2024-02-03 10:12:27.516259: I external/local_tsl/tsl/framework/bfc_allocator.cc:1062] Bin for 841.00MiB was 256.00MiB, Chunk State: \n",
      "2024-02-03 10:12:27.516287: I external/local_tsl/tsl/framework/bfc_allocator.cc:1068]   Size: 549.07MiB | Requested Size: 0B | in_use: 0 | bin_num: 20, prev:   Size: 4.50MiB | Requested Size: 4.50MiB | in_use: 1 | bin_num: -1\n",
      "2024-02-03 10:12:27.516302: I external/local_tsl/tsl/framework/bfc_allocator.cc:1075] Next region of size 2369257472\n",
      "2024-02-03 10:12:27.516320: I external/local_tsl/tsl/framework/bfc_allocator.cc:1095] InUse at 402c00000 of size 256 next 1\n",
      "2024-02-03 10:12:27.516334: I external/local_tsl/tsl/framework/bfc_allocator.cc:1095] InUse at 402c00100 of size 1280 next 2\n",
      "2024-02-03 10:12:27.516348: I external/local_tsl/tsl/framework/bfc_allocator.cc:1095] InUse at 402c00600 of size 256 next 3\n",
      "2024-02-03 10:12:27.516361: I external/local_tsl/tsl/framework/bfc_allocator.cc:1095] InUse at 402c00700 of size 256 next 4\n",
      "2024-02-03 10:12:27.516373: I external/local_tsl/tsl/framework/bfc_allocator.cc:1095] InUse at 402c00800 of size 256 next 6\n",
      "2024-02-03 10:12:27.516386: I external/local_tsl/tsl/framework/bfc_allocator.cc:1095] InUse at 402c00900 of size 256 next 7\n",
      "2024-02-03 10:12:27.516398: I external/local_tsl/tsl/framework/bfc_allocator.cc:1095] InUse at 402c00a00 of size 256 next 5\n",
      "2024-02-03 10:12:27.516410: I external/local_tsl/tsl/framework/bfc_allocator.cc:1095] InUse at 402c00b00 of size 256 next 8\n",
      "2024-02-03 10:12:27.516423: I external/local_tsl/tsl/framework/bfc_allocator.cc:1095] InUse at 402c00c00 of size 256 next 11\n",
      "2024-02-03 10:12:27.516436: I external/local_tsl/tsl/framework/bfc_allocator.cc:1095] InUse at 402c00d00 of size 256 next 12\n",
      "2024-02-03 10:12:27.516449: I external/local_tsl/tsl/framework/bfc_allocator.cc:1095] InUse at 402c00e00 of size 256 next 13\n",
      "2024-02-03 10:12:27.516461: I external/local_tsl/tsl/framework/bfc_allocator.cc:1095] InUse at 402c00f00 of size 256 next 14\n",
      "2024-02-03 10:12:27.516473: I external/local_tsl/tsl/framework/bfc_allocator.cc:1095] InUse at 402c01000 of size 256 next 15\n",
      "2024-02-03 10:12:27.516487: I external/local_tsl/tsl/framework/bfc_allocator.cc:1095] InUse at 402c01100 of size 512 next 18\n",
      "2024-02-03 10:12:27.516499: I external/local_tsl/tsl/framework/bfc_allocator.cc:1095] InUse at 402c01300 of size 512 next 16\n",
      "2024-02-03 10:12:27.516512: I external/local_tsl/tsl/framework/bfc_allocator.cc:1095] InUse at 402c01500 of size 512 next 17\n",
      "2024-02-03 10:12:27.516524: I external/local_tsl/tsl/framework/bfc_allocator.cc:1095] InUse at 402c01700 of size 512 next 21\n",
      "2024-02-03 10:12:27.516537: I external/local_tsl/tsl/framework/bfc_allocator.cc:1095] InUse at 402c01900 of size 512 next 22\n",
      "2024-02-03 10:12:27.516549: I external/local_tsl/tsl/framework/bfc_allocator.cc:1095] InUse at 402c01b00 of size 256 next 23\n",
      "2024-02-03 10:12:27.516562: I external/local_tsl/tsl/framework/bfc_allocator.cc:1095] InUse at 402c01c00 of size 256 next 24\n",
      "2024-02-03 10:12:27.516574: I external/local_tsl/tsl/framework/bfc_allocator.cc:1095] InUse at 402c01d00 of size 512 next 25\n",
      "2024-02-03 10:12:27.516587: I external/local_tsl/tsl/framework/bfc_allocator.cc:1095] InUse at 402c01f00 of size 512 next 26\n",
      "2024-02-03 10:12:27.516599: I external/local_tsl/tsl/framework/bfc_allocator.cc:1095] InUse at 402c02100 of size 512 next 29\n",
      "2024-02-03 10:12:27.516611: I external/local_tsl/tsl/framework/bfc_allocator.cc:1095] InUse at 402c02300 of size 512 next 30\n",
      "2024-02-03 10:12:27.516626: I external/local_tsl/tsl/framework/bfc_allocator.cc:1095] InUse at 402c02500 of size 512 next 31\n",
      "2024-02-03 10:12:27.516639: I external/local_tsl/tsl/framework/bfc_allocator.cc:1095] InUse at 402c02700 of size 512 next 32\n",
      "2024-02-03 10:12:27.516652: I external/local_tsl/tsl/framework/bfc_allocator.cc:1095] InUse at 402c02900 of size 512 next 33\n",
      "2024-02-03 10:12:27.516665: I external/local_tsl/tsl/framework/bfc_allocator.cc:1095] InUse at 402c02b00 of size 512 next 35\n",
      "2024-02-03 10:12:27.516677: I external/local_tsl/tsl/framework/bfc_allocator.cc:1095] InUse at 402c02d00 of size 512 next 36\n",
      "2024-02-03 10:12:27.516690: I external/local_tsl/tsl/framework/bfc_allocator.cc:1095] InUse at 402c02f00 of size 512 next 37\n",
      "2024-02-03 10:12:27.516702: I external/local_tsl/tsl/framework/bfc_allocator.cc:1095] InUse at 402c03100 of size 256 next 38\n",
      "2024-02-03 10:12:27.516715: I external/local_tsl/tsl/framework/bfc_allocator.cc:1095] InUse at 402c03200 of size 256 next 39\n",
      "2024-02-03 10:12:27.516728: I external/local_tsl/tsl/framework/bfc_allocator.cc:1095] InUse at 402c03300 of size 1024 next 42\n",
      "2024-02-03 10:12:27.516741: I external/local_tsl/tsl/framework/bfc_allocator.cc:1095] InUse at 402c03700 of size 1024 next 40\n",
      "2024-02-03 10:12:27.516754: I external/local_tsl/tsl/framework/bfc_allocator.cc:1095] InUse at 402c03b00 of size 1536 next 9\n",
      "2024-02-03 10:12:27.516767: I external/local_tsl/tsl/framework/bfc_allocator.cc:1095] InUse at 402c04100 of size 6912 next 10\n",
      "2024-02-03 10:12:27.516934: I external/local_tsl/tsl/framework/bfc_allocator.cc:1095] InUse at 402c05c00 of size 1024 next 41\n",
      "2024-02-03 10:12:27.516982: I external/local_tsl/tsl/framework/bfc_allocator.cc:1095] InUse at 402c06000 of size 1024 next 45\n",
      "2024-02-03 10:12:27.517011: I external/local_tsl/tsl/framework/bfc_allocator.cc:1095] InUse at 402c06400 of size 256 next 46\n",
      "2024-02-03 10:12:27.517036: I external/local_tsl/tsl/framework/bfc_allocator.cc:1095] InUse at 402c06500 of size 256 next 47\n",
      "2024-02-03 10:12:27.517062: I external/local_tsl/tsl/framework/bfc_allocator.cc:1095] InUse at 402c06600 of size 2048 next 50\n",
      "2024-02-03 10:12:27.517086: I external/local_tsl/tsl/framework/bfc_allocator.cc:1095] InUse at 402c06e00 of size 2048 next 48\n",
      "2024-02-03 10:12:27.517104: I external/local_tsl/tsl/framework/bfc_allocator.cc:1095] InUse at 402c07600 of size 2048 next 49\n",
      "2024-02-03 10:12:27.517117: I external/local_tsl/tsl/framework/bfc_allocator.cc:1095] InUse at 402c07e00 of size 2048 next 53\n",
      "2024-02-03 10:12:27.517130: I external/local_tsl/tsl/framework/bfc_allocator.cc:1095] InUse at 402c08600 of size 2048 next 54\n",
      "2024-02-03 10:12:27.517142: I external/local_tsl/tsl/framework/bfc_allocator.cc:1095] InUse at 402c08e00 of size 256 next 55\n",
      "2024-02-03 10:12:27.517155: I external/local_tsl/tsl/framework/bfc_allocator.cc:1095] InUse at 402c08f00 of size 256 next 56\n",
      "2024-02-03 10:12:27.517168: I external/local_tsl/tsl/framework/bfc_allocator.cc:1095] InUse at 402c09000 of size 256 next 57\n",
      "2024-02-03 10:12:27.517181: I external/local_tsl/tsl/framework/bfc_allocator.cc:1095] InUse at 402c09100 of size 256 next 58\n",
      "2024-02-03 10:12:27.517193: I external/local_tsl/tsl/framework/bfc_allocator.cc:1095] InUse at 402c09200 of size 256 next 62\n",
      "2024-02-03 10:12:27.517206: I external/local_tsl/tsl/framework/bfc_allocator.cc:1095] InUse at 402c09300 of size 256 next 63\n",
      "2024-02-03 10:12:27.517218: I external/local_tsl/tsl/framework/bfc_allocator.cc:1095] InUse at 402c09400 of size 256 next 60\n",
      "2024-02-03 10:12:27.517231: I external/local_tsl/tsl/framework/bfc_allocator.cc:1095] InUse at 402c09500 of size 256 next 64\n",
      "2024-02-03 10:12:27.517244: I external/local_tsl/tsl/framework/bfc_allocator.cc:1095] InUse at 402c09600 of size 256 next 67\n",
      "2024-02-03 10:12:27.517257: I external/local_tsl/tsl/framework/bfc_allocator.cc:1095] InUse at 402c09700 of size 512 next 68\n",
      "2024-02-03 10:12:27.517269: I external/local_tsl/tsl/framework/bfc_allocator.cc:1095] InUse at 402c09900 of size 512 next 69\n",
      "2024-02-03 10:12:27.517285: I external/local_tsl/tsl/framework/bfc_allocator.cc:1095] InUse at 402c09b00 of size 512 next 70\n",
      "2024-02-03 10:12:27.517298: I external/local_tsl/tsl/framework/bfc_allocator.cc:1095] InUse at 402c09d00 of size 512 next 72\n",
      "2024-02-03 10:12:27.517311: I external/local_tsl/tsl/framework/bfc_allocator.cc:1095] InUse at 402c09f00 of size 512 next 73\n",
      "2024-02-03 10:12:27.517324: I external/local_tsl/tsl/framework/bfc_allocator.cc:1095] InUse at 402c0a100 of size 512 next 76\n",
      "2024-02-03 10:12:27.517337: I external/local_tsl/tsl/framework/bfc_allocator.cc:1095] InUse at 402c0a300 of size 512 next 74\n",
      "2024-02-03 10:12:27.517350: I external/local_tsl/tsl/framework/bfc_allocator.cc:1095] InUse at 402c0a500 of size 512 next 75\n",
      "2024-02-03 10:12:27.517363: I external/local_tsl/tsl/framework/bfc_allocator.cc:1095] InUse at 402c0a700 of size 512 next 79\n",
      "2024-02-03 10:12:27.517376: I external/local_tsl/tsl/framework/bfc_allocator.cc:1095] InUse at 402c0a900 of size 512 next 80\n",
      "2024-02-03 10:12:27.517389: I external/local_tsl/tsl/framework/bfc_allocator.cc:1095] InUse at 402c0ab00 of size 512 next 81\n",
      "2024-02-03 10:12:27.517401: I external/local_tsl/tsl/framework/bfc_allocator.cc:1095] InUse at 402c0ad00 of size 512 next 82\n",
      "2024-02-03 10:12:27.517414: I external/local_tsl/tsl/framework/bfc_allocator.cc:1095] InUse at 402c0af00 of size 512 next 83\n",
      "2024-02-03 10:12:27.517427: I external/local_tsl/tsl/framework/bfc_allocator.cc:1095] InUse at 402c0b100 of size 512 next 85\n",
      "2024-02-03 10:12:27.517439: I external/local_tsl/tsl/framework/bfc_allocator.cc:1095] InUse at 402c0b300 of size 512 next 86\n",
      "2024-02-03 10:12:27.517453: I external/local_tsl/tsl/framework/bfc_allocator.cc:1095] InUse at 402c0b500 of size 1024 next 89\n",
      "2024-02-03 10:12:27.517466: I external/local_tsl/tsl/framework/bfc_allocator.cc:1095] InUse at 402c0b900 of size 1024 next 87\n",
      "2024-02-03 10:12:27.517479: I external/local_tsl/tsl/framework/bfc_allocator.cc:1095] InUse at 402c0bd00 of size 1024 next 88\n",
      "2024-02-03 10:12:27.517492: I external/local_tsl/tsl/framework/bfc_allocator.cc:1095] InUse at 402c0c100 of size 1024 next 92\n",
      "2024-02-03 10:12:27.517505: I external/local_tsl/tsl/framework/bfc_allocator.cc:1095] InUse at 402c0c500 of size 1536 next 65\n",
      "2024-02-03 10:12:27.517517: I external/local_tsl/tsl/framework/bfc_allocator.cc:1095] InUse at 402c0cb00 of size 6912 next 66\n",
      "2024-02-03 10:12:27.517531: I external/local_tsl/tsl/framework/bfc_allocator.cc:1095] Free  at 402c0e600 of size 554496 next 20\n",
      "2024-02-03 10:12:27.517545: I external/local_tsl/tsl/framework/bfc_allocator.cc:1095] InUse at 402c95c00 of size 294912 next 19\n",
      "2024-02-03 10:12:27.517558: I external/local_tsl/tsl/framework/bfc_allocator.cc:1095] InUse at 402cddc00 of size 2048 next 93\n",
      "2024-02-03 10:12:27.517571: I external/local_tsl/tsl/framework/bfc_allocator.cc:1095] InUse at 402cde400 of size 2048 next 94\n",
      "2024-02-03 10:12:27.517584: I external/local_tsl/tsl/framework/bfc_allocator.cc:1095] InUse at 402cdec00 of size 2048 next 97\n",
      "2024-02-03 10:12:27.517597: I external/local_tsl/tsl/framework/bfc_allocator.cc:1095] InUse at 402cdf400 of size 2048 next 98\n",
      "2024-02-03 10:12:27.517609: I external/local_tsl/tsl/framework/bfc_allocator.cc:1095] InUse at 402cdfc00 of size 2048 next 99\n",
      "2024-02-03 10:12:27.517622: I external/local_tsl/tsl/framework/bfc_allocator.cc:1095] InUse at 402ce0400 of size 256 next 100\n",
      "2024-02-03 10:12:27.517634: I external/local_tsl/tsl/framework/bfc_allocator.cc:1095] InUse at 402ce0500 of size 256 next 101\n",
      "2024-02-03 10:12:27.517647: I external/local_tsl/tsl/framework/bfc_allocator.cc:1095] Free  at 402ce0600 of size 284160 next 71\n",
      "2024-02-03 10:12:27.517660: I external/local_tsl/tsl/framework/bfc_allocator.cc:1095] InUse at 402d25c00 of size 294912 next 28\n",
      "2024-02-03 10:12:27.517674: I external/local_tsl/tsl/framework/bfc_allocator.cc:1095] InUse at 402d6dc00 of size 589824 next 27\n",
      "2024-02-03 10:12:27.517688: I external/local_tsl/tsl/framework/bfc_allocator.cc:1095] InUse at 402dfdc00 of size 589824 next 34\n",
      "2024-02-03 10:12:27.517703: I external/local_tsl/tsl/framework/bfc_allocator.cc:1095] Free  at 402e8dc00 of size 589824 next 84\n",
      "2024-02-03 10:12:27.517717: I external/local_tsl/tsl/framework/bfc_allocator.cc:1095] InUse at 402f1dc00 of size 589824 next 78\n",
      "2024-02-03 10:12:27.517729: I external/local_tsl/tsl/framework/bfc_allocator.cc:1095] InUse at 402fadc00 of size 589824 next 77\n",
      "2024-02-03 10:12:27.517742: I external/local_tsl/tsl/framework/bfc_allocator.cc:1095] Free  at 40303dc00 of size 589824 next 44\n",
      "2024-02-03 10:12:27.517755: I external/local_tsl/tsl/framework/bfc_allocator.cc:1095] InUse at 4030cdc00 of size 1179648 next 43\n",
      "2024-02-03 10:12:27.517769: I external/local_tsl/tsl/framework/bfc_allocator.cc:1095] Free  at 4031edc00 of size 2359296 next 91\n",
      "2024-02-03 10:12:27.517868: I external/local_tsl/tsl/framework/bfc_allocator.cc:1095] InUse at 40342dc00 of size 1179648 next 90\n",
      "2024-02-03 10:12:27.517895: I external/local_tsl/tsl/framework/bfc_allocator.cc:1095] Free  at 40354dc00 of size 5898240 next 52\n",
      "2024-02-03 10:12:27.517914: I external/local_tsl/tsl/framework/bfc_allocator.cc:1095] InUse at 403aedc00 of size 4718592 next 51\n",
      "2024-02-03 10:12:27.517930: I external/local_tsl/tsl/framework/bfc_allocator.cc:1095] InUse at 403f6dc00 of size 881852416 next 59\n",
      "2024-02-03 10:12:27.517944: I external/local_tsl/tsl/framework/bfc_allocator.cc:1095] InUse at 43886dc00 of size 881852416 next 61\n",
      "2024-02-03 10:12:27.517958: I external/local_tsl/tsl/framework/bfc_allocator.cc:1095] Free  at 46d16dc00 of size 4718592 next 96\n",
      "2024-02-03 10:12:27.517972: I external/local_tsl/tsl/framework/bfc_allocator.cc:1095] InUse at 46d5edc00 of size 4718592 next 95\n",
      "2024-02-03 10:12:27.517986: I external/local_tsl/tsl/framework/bfc_allocator.cc:1095] Free  at 46da6dc00 of size 575742976 next 18446744073709551615\n",
      "2024-02-03 10:12:27.518000: I external/local_tsl/tsl/framework/bfc_allocator.cc:1100]      Summary of in-use Chunks by size: \n",
      "2024-02-03 10:12:27.518023: I external/local_tsl/tsl/framework/bfc_allocator.cc:1103] 29 Chunks of size 256 totalling 7.2KiB\n",
      "2024-02-03 10:12:27.518041: I external/local_tsl/tsl/framework/bfc_allocator.cc:1103] 30 Chunks of size 512 totalling 15.0KiB\n",
      "2024-02-03 10:12:27.518058: I external/local_tsl/tsl/framework/bfc_allocator.cc:1103] 8 Chunks of size 1024 totalling 8.0KiB\n",
      "2024-02-03 10:12:27.518074: I external/local_tsl/tsl/framework/bfc_allocator.cc:1103] 1 Chunks of size 1280 totalling 1.2KiB\n",
      "2024-02-03 10:12:27.518089: I external/local_tsl/tsl/framework/bfc_allocator.cc:1103] 2 Chunks of size 1536 totalling 3.0KiB\n",
      "2024-02-03 10:12:27.518105: I external/local_tsl/tsl/framework/bfc_allocator.cc:1103] 10 Chunks of size 2048 totalling 20.0KiB\n",
      "2024-02-03 10:12:27.518122: I external/local_tsl/tsl/framework/bfc_allocator.cc:1103] 2 Chunks of size 6912 totalling 13.5KiB\n",
      "2024-02-03 10:12:27.518140: I external/local_tsl/tsl/framework/bfc_allocator.cc:1103] 2 Chunks of size 294912 totalling 576.0KiB\n",
      "2024-02-03 10:12:27.518156: I external/local_tsl/tsl/framework/bfc_allocator.cc:1103] 4 Chunks of size 589824 totalling 2.25MiB\n",
      "2024-02-03 10:12:27.518172: I external/local_tsl/tsl/framework/bfc_allocator.cc:1103] 2 Chunks of size 1179648 totalling 2.25MiB\n",
      "2024-02-03 10:12:27.518187: I external/local_tsl/tsl/framework/bfc_allocator.cc:1103] 2 Chunks of size 4718592 totalling 9.00MiB\n",
      "2024-02-03 10:12:27.518203: I external/local_tsl/tsl/framework/bfc_allocator.cc:1103] 2 Chunks of size 881852416 totalling 1.64GiB\n",
      "2024-02-03 10:12:27.518219: I external/local_tsl/tsl/framework/bfc_allocator.cc:1107] Sum Total of in-use chunks: 1.66GiB\n",
      "2024-02-03 10:12:27.518316: I external/local_tsl/tsl/framework/bfc_allocator.cc:1109] Total bytes in pool: 2369257472 memory_limit_: 2369257472 available bytes: 0 curr_region_allocation_bytes_: 4738514944\n",
      "2024-02-03 10:12:27.518459: I external/local_tsl/tsl/framework/bfc_allocator.cc:1114] Stats: \n",
      "Limit:                      2369257472\n",
      "InUse:                      1778520064\n",
      "MaxInUse:                   1789126656\n",
      "NumAllocs:                         155\n",
      "MaxAllocSize:                881852416\n",
      "Reserved:                            0\n",
      "PeakReserved:                        0\n",
      "LargestFreeBlock:                    0\n",
      "\n",
      "2024-02-03 10:12:27.518511: W external/local_tsl/tsl/framework/bfc_allocator.cc:497] ****************************************************************************________________________\n",
      "2024-02-03 10:12:27.518647: W tensorflow/core/framework/op_kernel.cc:1839] OP_REQUIRES failed at stateless_random_ops_v2.cc:64 : RESOURCE_EXHAUSTED: OOM when allocating tensor with shape[430592,512] and type float on /job:localhost/replica:0/task:0/device:GPU:0 by allocator GPU_0_bfc\n"
     ]
    },
    {
     "ename": "ResourceExhaustedError",
     "evalue": "{{function_node __wrapped__StatelessRandomUniformV2_device_/job:localhost/replica:0/task:0/device:GPU:0}} OOM when allocating tensor with shape[430592,512] and type float on /job:localhost/replica:0/task:0/device:GPU:0 by allocator GPU_0_bfc [Op:StatelessRandomUniformV2] name: ",
     "output_type": "error",
     "traceback": [
      "\u001b[0;31m---------------------------------------------------------------------------\u001b[0m",
      "\u001b[0;31mResourceExhaustedError\u001b[0m                    Traceback (most recent call last)",
      "Cell \u001b[0;32mIn[13], line 40\u001b[0m\n\u001b[1;32m     38\u001b[0m \u001b[38;5;66;03m# Flatten the output and add dense layers\u001b[39;00m\n\u001b[1;32m     39\u001b[0m model\u001b[38;5;241m.\u001b[39madd(layers\u001b[38;5;241m.\u001b[39mFlatten())\n\u001b[0;32m---> 40\u001b[0m \u001b[43mmodel\u001b[49m\u001b[38;5;241;43m.\u001b[39;49m\u001b[43madd\u001b[49m\u001b[43m(\u001b[49m\u001b[43mlayers\u001b[49m\u001b[38;5;241;43m.\u001b[39;49m\u001b[43mDense\u001b[49m\u001b[43m(\u001b[49m\u001b[38;5;241;43m512\u001b[39;49m\u001b[43m,\u001b[49m\u001b[43m \u001b[49m\u001b[43mactivation\u001b[49m\u001b[38;5;241;43m=\u001b[39;49m\u001b[38;5;124;43m'\u001b[39;49m\u001b[38;5;124;43mrelu\u001b[39;49m\u001b[38;5;124;43m'\u001b[39;49m\u001b[43m)\u001b[49m\u001b[43m)\u001b[49m\n\u001b[1;32m     41\u001b[0m model\u001b[38;5;241m.\u001b[39madd(layers\u001b[38;5;241m.\u001b[39mDropout(\u001b[38;5;241m0.5\u001b[39m))\n\u001b[1;32m     42\u001b[0m model\u001b[38;5;241m.\u001b[39madd(layers\u001b[38;5;241m.\u001b[39mDense(\u001b[38;5;241m256\u001b[39m, activation\u001b[38;5;241m=\u001b[39m\u001b[38;5;124m'\u001b[39m\u001b[38;5;124mrelu\u001b[39m\u001b[38;5;124m'\u001b[39m))\n",
      "File \u001b[0;32m~/anaconda3/envs/py311/lib/python3.11/site-packages/tensorflow/python/trackable/base.py:204\u001b[0m, in \u001b[0;36mno_automatic_dependency_tracking.<locals>._method_wrapper\u001b[0;34m(self, *args, **kwargs)\u001b[0m\n\u001b[1;32m    202\u001b[0m \u001b[38;5;28mself\u001b[39m\u001b[38;5;241m.\u001b[39m_self_setattr_tracking \u001b[38;5;241m=\u001b[39m \u001b[38;5;28;01mFalse\u001b[39;00m  \u001b[38;5;66;03m# pylint: disable=protected-access\u001b[39;00m\n\u001b[1;32m    203\u001b[0m \u001b[38;5;28;01mtry\u001b[39;00m:\n\u001b[0;32m--> 204\u001b[0m   result \u001b[38;5;241m=\u001b[39m \u001b[43mmethod\u001b[49m\u001b[43m(\u001b[49m\u001b[38;5;28;43mself\u001b[39;49m\u001b[43m,\u001b[49m\u001b[43m \u001b[49m\u001b[38;5;241;43m*\u001b[39;49m\u001b[43margs\u001b[49m\u001b[43m,\u001b[49m\u001b[43m \u001b[49m\u001b[38;5;241;43m*\u001b[39;49m\u001b[38;5;241;43m*\u001b[39;49m\u001b[43mkwargs\u001b[49m\u001b[43m)\u001b[49m\n\u001b[1;32m    205\u001b[0m \u001b[38;5;28;01mfinally\u001b[39;00m:\n\u001b[1;32m    206\u001b[0m   \u001b[38;5;28mself\u001b[39m\u001b[38;5;241m.\u001b[39m_self_setattr_tracking \u001b[38;5;241m=\u001b[39m previous_value  \u001b[38;5;66;03m# pylint: disable=protected-access\u001b[39;00m\n",
      "File \u001b[0;32m~/anaconda3/envs/py311/lib/python3.11/site-packages/keras/src/utils/traceback_utils.py:70\u001b[0m, in \u001b[0;36mfilter_traceback.<locals>.error_handler\u001b[0;34m(*args, **kwargs)\u001b[0m\n\u001b[1;32m     67\u001b[0m     filtered_tb \u001b[38;5;241m=\u001b[39m _process_traceback_frames(e\u001b[38;5;241m.\u001b[39m__traceback__)\n\u001b[1;32m     68\u001b[0m     \u001b[38;5;66;03m# To get the full stack trace, call:\u001b[39;00m\n\u001b[1;32m     69\u001b[0m     \u001b[38;5;66;03m# `tf.debugging.disable_traceback_filtering()`\u001b[39;00m\n\u001b[0;32m---> 70\u001b[0m     \u001b[38;5;28;01mraise\u001b[39;00m e\u001b[38;5;241m.\u001b[39mwith_traceback(filtered_tb) \u001b[38;5;28;01mfrom\u001b[39;00m \u001b[38;5;28;01mNone\u001b[39;00m\n\u001b[1;32m     71\u001b[0m \u001b[38;5;28;01mfinally\u001b[39;00m:\n\u001b[1;32m     72\u001b[0m     \u001b[38;5;28;01mdel\u001b[39;00m filtered_tb\n",
      "File \u001b[0;32m~/anaconda3/envs/py311/lib/python3.11/site-packages/keras/src/backend.py:2100\u001b[0m, in \u001b[0;36mRandomGenerator.random_uniform\u001b[0;34m(self, shape, minval, maxval, dtype, nonce)\u001b[0m\n\u001b[1;32m   2098\u001b[0m     \u001b[38;5;28;01mif\u001b[39;00m nonce:\n\u001b[1;32m   2099\u001b[0m         seed \u001b[38;5;241m=\u001b[39m tf\u001b[38;5;241m.\u001b[39mrandom\u001b[38;5;241m.\u001b[39mexperimental\u001b[38;5;241m.\u001b[39mstateless_fold_in(seed, nonce)\n\u001b[0;32m-> 2100\u001b[0m     \u001b[38;5;28;01mreturn\u001b[39;00m \u001b[43mtf\u001b[49m\u001b[38;5;241;43m.\u001b[39;49m\u001b[43mrandom\u001b[49m\u001b[38;5;241;43m.\u001b[39;49m\u001b[43mstateless_uniform\u001b[49m\u001b[43m(\u001b[49m\n\u001b[1;32m   2101\u001b[0m \u001b[43m        \u001b[49m\u001b[43mshape\u001b[49m\u001b[38;5;241;43m=\u001b[39;49m\u001b[43mshape\u001b[49m\u001b[43m,\u001b[49m\n\u001b[1;32m   2102\u001b[0m \u001b[43m        \u001b[49m\u001b[43mminval\u001b[49m\u001b[38;5;241;43m=\u001b[39;49m\u001b[43mminval\u001b[49m\u001b[43m,\u001b[49m\n\u001b[1;32m   2103\u001b[0m \u001b[43m        \u001b[49m\u001b[43mmaxval\u001b[49m\u001b[38;5;241;43m=\u001b[39;49m\u001b[43mmaxval\u001b[49m\u001b[43m,\u001b[49m\n\u001b[1;32m   2104\u001b[0m \u001b[43m        \u001b[49m\u001b[43mdtype\u001b[49m\u001b[38;5;241;43m=\u001b[39;49m\u001b[43mdtype\u001b[49m\u001b[43m,\u001b[49m\n\u001b[1;32m   2105\u001b[0m \u001b[43m        \u001b[49m\u001b[43mseed\u001b[49m\u001b[38;5;241;43m=\u001b[39;49m\u001b[43mseed\u001b[49m\u001b[43m,\u001b[49m\n\u001b[1;32m   2106\u001b[0m \u001b[43m    \u001b[49m\u001b[43m)\u001b[49m\n\u001b[1;32m   2107\u001b[0m \u001b[38;5;28;01mreturn\u001b[39;00m tf\u001b[38;5;241m.\u001b[39mrandom\u001b[38;5;241m.\u001b[39muniform(\n\u001b[1;32m   2108\u001b[0m     shape\u001b[38;5;241m=\u001b[39mshape,\n\u001b[1;32m   2109\u001b[0m     minval\u001b[38;5;241m=\u001b[39mminval,\n\u001b[0;32m   (...)\u001b[0m\n\u001b[1;32m   2112\u001b[0m     seed\u001b[38;5;241m=\u001b[39m\u001b[38;5;28mself\u001b[39m\u001b[38;5;241m.\u001b[39mmake_legacy_seed(),\n\u001b[1;32m   2113\u001b[0m )\n",
      "\u001b[0;31mResourceExhaustedError\u001b[0m: {{function_node __wrapped__StatelessRandomUniformV2_device_/job:localhost/replica:0/task:0/device:GPU:0}} OOM when allocating tensor with shape[430592,512] and type float on /job:localhost/replica:0/task:0/device:GPU:0 by allocator GPU_0_bfc [Op:StatelessRandomUniformV2] name: "
     ]
    }
   ],
   "source": [
    "num_classes = 38\n",
    "# Create a sequential model\n",
    "model = models.Sequential()\n",
    "\n",
    "# Layer 1: Conv2D -> BatchNormalization -> ReLU\n",
    "model.add(layers.Conv2D(64, (3, 3), input_shape=(256, 256, 3)))\n",
    "model.add(layers.BatchNormalization())\n",
    "model.add(layers.Activation('relu'))\n",
    "\n",
    "# Layer 2: Conv2D -> BatchNormalization -> ReLU -> MaxPooling\n",
    "model.add(layers.Conv2D(128, (3, 3)))\n",
    "model.add(layers.BatchNormalization())\n",
    "model.add(layers.Activation('relu'))\n",
    "model.add(layers.MaxPooling2D((2, 2)))\n",
    "\n",
    "# Layer 3: Conv2D -> BatchNormalization -> ReLU -> Conv2D -> BatchNormalization -> ReLU\n",
    "model.add(layers.Conv2D(128, (3, 3)))\n",
    "model.add(layers.BatchNormalization())\n",
    "model.add(layers.Activation('relu'))\n",
    "model.add(layers.Conv2D(128, (3, 3)))\n",
    "model.add(layers.BatchNormalization())\n",
    "model.add(layers.Activation('relu'))\n",
    "\n",
    "# Layer 4: Conv2D -> BatchNormalization -> ReLU -> MaxPooling\n",
    "model.add(layers.Conv2D(256, (3, 3)))\n",
    "model.add(layers.BatchNormalization())\n",
    "model.add(layers.Activation('relu'))\n",
    "model.add(layers.MaxPooling2D((2, 2)))\n",
    "\n",
    "# Layer 5: Conv2D -> BatchNormalization -> ReLU\n",
    "model.add(layers.Conv2D(512, (3, 3)))\n",
    "model.add(layers.BatchNormalization())\n",
    "model.add(layers.Activation('relu'))\n",
    "\n",
    "# Layer 6: MaxPooling\n",
    "model.add(layers.MaxPooling2D((2, 2)))\n",
    "\n",
    "# Flatten the output and add dense layers\n",
    "model.add(layers.Flatten())\n",
    "model.add(layers.Dense(512, activation='relu'))\n",
    "model.add(layers.Dropout(0.5))\n",
    "model.add(layers.Dense(256, activation='relu'))\n",
    "\n",
    "# Output layer\n",
    "model.add(layers.Dense(num_classes, activation='softmax'))\n",
    "\n",
    "# Display the model summary\n",
    "model.summary()\n"
   ]
  },
  {
   "cell_type": "code",
   "execution_count": 14,
   "id": "f4dc4119",
   "metadata": {},
   "outputs": [
    {
     "ename": "ValueError",
     "evalue": "This model has not yet been built. Build the model first by calling `build()` or by calling the model on a batch of data.",
     "output_type": "error",
     "traceback": [
      "\u001b[0;31m---------------------------------------------------------------------------\u001b[0m",
      "\u001b[0;31mValueError\u001b[0m                                Traceback (most recent call last)",
      "Cell \u001b[0;32mIn[14], line 1\u001b[0m\n\u001b[0;32m----> 1\u001b[0m \u001b[43mmodel\u001b[49m\u001b[38;5;241;43m.\u001b[39;49m\u001b[43msummary\u001b[49m\u001b[43m(\u001b[49m\u001b[43m)\u001b[49m\n",
      "File \u001b[0;32m~/anaconda3/envs/py311/lib/python3.11/site-packages/keras/src/engine/training.py:3506\u001b[0m, in \u001b[0;36mModel.summary\u001b[0;34m(self, line_length, positions, print_fn, expand_nested, show_trainable, layer_range)\u001b[0m\n\u001b[1;32m   3475\u001b[0m \u001b[38;5;250m\u001b[39m\u001b[38;5;124;03m\"\"\"Prints a string summary of the network.\u001b[39;00m\n\u001b[1;32m   3476\u001b[0m \n\u001b[1;32m   3477\u001b[0m \u001b[38;5;124;03mArgs:\u001b[39;00m\n\u001b[0;32m   (...)\u001b[0m\n\u001b[1;32m   3503\u001b[0m \u001b[38;5;124;03m    ValueError: if `summary()` is called before the model is built.\u001b[39;00m\n\u001b[1;32m   3504\u001b[0m \u001b[38;5;124;03m\"\"\"\u001b[39;00m\n\u001b[1;32m   3505\u001b[0m \u001b[38;5;28;01mif\u001b[39;00m \u001b[38;5;129;01mnot\u001b[39;00m \u001b[38;5;28mself\u001b[39m\u001b[38;5;241m.\u001b[39mbuilt:\n\u001b[0;32m-> 3506\u001b[0m     \u001b[38;5;28;01mraise\u001b[39;00m \u001b[38;5;167;01mValueError\u001b[39;00m(\n\u001b[1;32m   3507\u001b[0m         \u001b[38;5;124m\"\u001b[39m\u001b[38;5;124mThis model has not yet been built. \u001b[39m\u001b[38;5;124m\"\u001b[39m\n\u001b[1;32m   3508\u001b[0m         \u001b[38;5;124m\"\u001b[39m\u001b[38;5;124mBuild the model first by calling `build()` or by calling \u001b[39m\u001b[38;5;124m\"\u001b[39m\n\u001b[1;32m   3509\u001b[0m         \u001b[38;5;124m\"\u001b[39m\u001b[38;5;124mthe model on a batch of data.\u001b[39m\u001b[38;5;124m\"\u001b[39m\n\u001b[1;32m   3510\u001b[0m     )\n\u001b[1;32m   3511\u001b[0m layer_utils\u001b[38;5;241m.\u001b[39mprint_summary(\n\u001b[1;32m   3512\u001b[0m     \u001b[38;5;28mself\u001b[39m,\n\u001b[1;32m   3513\u001b[0m     line_length\u001b[38;5;241m=\u001b[39mline_length,\n\u001b[0;32m   (...)\u001b[0m\n\u001b[1;32m   3518\u001b[0m     layer_range\u001b[38;5;241m=\u001b[39mlayer_range,\n\u001b[1;32m   3519\u001b[0m )\n",
      "\u001b[0;31mValueError\u001b[0m: This model has not yet been built. Build the model first by calling `build()` or by calling the model on a batch of data."
     ]
    }
   ],
   "source": [
    "model.summary()"
   ]
  },
  {
   "cell_type": "markdown",
   "id": "4dacf163",
   "metadata": {},
   "source": [
    "## Compile the Model"
   ]
  },
  {
   "cell_type": "code",
   "execution_count": 33,
   "id": "2d369f13",
   "metadata": {},
   "outputs": [],
   "source": [
    "# Compile the model with specified optimizer, loss function, and metrics\n",
    "model.compile(optimizer=tf.compat.v1.train.AdamOptimizer(), \n",
    "              loss='categorical_crossentropy',\n",
    "              metrics=['accuracy'])"
   ]
  },
  {
   "cell_type": "markdown",
   "id": "f38fe5c3",
   "metadata": {},
   "source": [
    "## Train the model"
   ]
  },
  {
   "cell_type": "code",
   "execution_count": 40,
   "id": "36491be5",
   "metadata": {},
   "outputs": [
    {
     "name": "stdout",
     "output_type": "stream",
     "text": [
      "Epoch 1/15\n",
      "2196/2196 [==============================] - 1285s 585ms/step - loss: 3.3864 - accuracy: 0.0758 - val_loss: 3.2695 - val_accuracy: 0.0957\n",
      "Epoch 2/15\n",
      "2196/2196 [==============================] - 1049s 478ms/step - loss: 2.7718 - accuracy: 0.2052 - val_loss: 1.8537 - val_accuracy: 0.4382\n",
      "Epoch 3/15\n",
      "2196/2196 [==============================] - 988s 450ms/step - loss: 1.5964 - accuracy: 0.5199 - val_loss: 1.0924 - val_accuracy: 0.6596\n",
      "Epoch 4/15\n",
      "2196/2196 [==============================] - 1029s 469ms/step - loss: 1.1023 - accuracy: 0.6598 - val_loss: 0.7966 - val_accuracy: 0.7487\n",
      "Epoch 5/15\n",
      "2196/2196 [==============================] - 1037s 472ms/step - loss: 0.9650 - accuracy: 0.7002 - val_loss: 0.6728 - val_accuracy: 0.7836\n",
      "Epoch 6/15\n",
      "2196/2196 [==============================] - 1188s 541ms/step - loss: 0.7828 - accuracy: 0.7534 - val_loss: 0.6101 - val_accuracy: 0.8120\n",
      "Epoch 7/15\n",
      "2196/2196 [==============================] - 1046s 476ms/step - loss: 0.7431 - accuracy: 0.7686 - val_loss: 0.4709 - val_accuracy: 0.8502\n",
      "Epoch 8/15\n",
      "2196/2196 [==============================] - 1017s 463ms/step - loss: 0.6777 - accuracy: 0.7886 - val_loss: 0.4752 - val_accuracy: 0.8468\n",
      "Epoch 9/15\n",
      "2196/2196 [==============================] - 966s 440ms/step - loss: 0.6613 - accuracy: 0.7950 - val_loss: 0.4851 - val_accuracy: 0.8448\n",
      "Epoch 10/15\n",
      "2196/2196 [==============================] - 971s 442ms/step - loss: 0.6200 - accuracy: 0.8078 - val_loss: 0.4873 - val_accuracy: 0.8436\n",
      "Epoch 11/15\n",
      "2196/2196 [==============================] - 1015s 462ms/step - loss: 0.6185 - accuracy: 0.8098 - val_loss: 0.4312 - val_accuracy: 0.8591\n",
      "Epoch 12/15\n",
      "2196/2196 [==============================] - 1029s 468ms/step - loss: 0.5909 - accuracy: 0.8159 - val_loss: 0.4297 - val_accuracy: 0.8648\n",
      "Epoch 13/15\n",
      "2196/2196 [==============================] - 1066s 485ms/step - loss: 0.6385 - accuracy: 0.8070 - val_loss: 0.4041 - val_accuracy: 0.8714\n",
      "Epoch 14/15\n",
      " 508/2196 [=====>........................] - ETA: 11:53 - loss: 0.6301 - accuracy: 0.8094"
     ]
    },
    {
     "ename": "KeyboardInterrupt",
     "evalue": "",
     "output_type": "error",
     "traceback": [
      "\u001b[1;31m---------------------------------------------------------------------------\u001b[0m",
      "\u001b[1;31mKeyboardInterrupt\u001b[0m                         Traceback (most recent call last)",
      "Cell \u001b[1;32mIn[40], line 2\u001b[0m\n\u001b[0;32m      1\u001b[0m \u001b[38;5;66;03m# Train the model with the training and validation sets\u001b[39;00m\n\u001b[1;32m----> 2\u001b[0m history \u001b[38;5;241m=\u001b[39m \u001b[43mmodel\u001b[49m\u001b[38;5;241;43m.\u001b[39;49m\u001b[43mfit\u001b[49m\u001b[43m(\u001b[49m\n\u001b[0;32m      3\u001b[0m \u001b[43m    \u001b[49m\u001b[43mtrain_generator\u001b[49m\u001b[43m,\u001b[49m\n\u001b[0;32m      4\u001b[0m \u001b[43m    \u001b[49m\u001b[43msteps_per_epoch\u001b[49m\u001b[38;5;241;43m=\u001b[39;49m\u001b[43mtrain_generator\u001b[49m\u001b[38;5;241;43m.\u001b[39;49m\u001b[43msamples\u001b[49m\u001b[43m \u001b[49m\u001b[38;5;241;43m/\u001b[39;49m\u001b[38;5;241;43m/\u001b[39;49m\u001b[43m \u001b[49m\u001b[43mtrain_generator\u001b[49m\u001b[38;5;241;43m.\u001b[39;49m\u001b[43mbatch_size\u001b[49m\u001b[43m,\u001b[49m\n\u001b[0;32m      5\u001b[0m \u001b[43m    \u001b[49m\u001b[43mepochs\u001b[49m\u001b[38;5;241;43m=\u001b[39;49m\u001b[38;5;241;43m15\u001b[39;49m\u001b[43m,\u001b[49m\u001b[43m  \u001b[49m\u001b[38;5;66;43;03m# Increase epochs for better training\u001b[39;49;00m\n\u001b[0;32m      6\u001b[0m \u001b[43m    \u001b[49m\u001b[43mvalidation_data\u001b[49m\u001b[38;5;241;43m=\u001b[39;49m\u001b[43mvalidation_generator\u001b[49m\u001b[43m,\u001b[49m\n\u001b[0;32m      7\u001b[0m \u001b[43m    \u001b[49m\u001b[43mvalidation_steps\u001b[49m\u001b[38;5;241;43m=\u001b[39;49m\u001b[43mvalidation_generator\u001b[49m\u001b[38;5;241;43m.\u001b[39;49m\u001b[43msamples\u001b[49m\u001b[43m \u001b[49m\u001b[38;5;241;43m/\u001b[39;49m\u001b[38;5;241;43m/\u001b[39;49m\u001b[43m \u001b[49m\u001b[43mvalidation_generator\u001b[49m\u001b[38;5;241;43m.\u001b[39;49m\u001b[43mbatch_size\u001b[49m\n\u001b[0;32m      8\u001b[0m \u001b[43m)\u001b[49m\n",
      "File \u001b[1;32m~\\AppData\\Local\\Programs\\Python\\Python311\\Lib\\site-packages\\keras\\src\\utils\\traceback_utils.py:65\u001b[0m, in \u001b[0;36mfilter_traceback.<locals>.error_handler\u001b[1;34m(*args, **kwargs)\u001b[0m\n\u001b[0;32m     63\u001b[0m filtered_tb \u001b[38;5;241m=\u001b[39m \u001b[38;5;28;01mNone\u001b[39;00m\n\u001b[0;32m     64\u001b[0m \u001b[38;5;28;01mtry\u001b[39;00m:\n\u001b[1;32m---> 65\u001b[0m     \u001b[38;5;28;01mreturn\u001b[39;00m \u001b[43mfn\u001b[49m\u001b[43m(\u001b[49m\u001b[38;5;241;43m*\u001b[39;49m\u001b[43margs\u001b[49m\u001b[43m,\u001b[49m\u001b[43m \u001b[49m\u001b[38;5;241;43m*\u001b[39;49m\u001b[38;5;241;43m*\u001b[39;49m\u001b[43mkwargs\u001b[49m\u001b[43m)\u001b[49m\n\u001b[0;32m     66\u001b[0m \u001b[38;5;28;01mexcept\u001b[39;00m \u001b[38;5;167;01mException\u001b[39;00m \u001b[38;5;28;01mas\u001b[39;00m e:\n\u001b[0;32m     67\u001b[0m     filtered_tb \u001b[38;5;241m=\u001b[39m _process_traceback_frames(e\u001b[38;5;241m.\u001b[39m__traceback__)\n",
      "File \u001b[1;32m~\\AppData\\Local\\Programs\\Python\\Python311\\Lib\\site-packages\\keras\\src\\engine\\training.py:1807\u001b[0m, in \u001b[0;36mModel.fit\u001b[1;34m(self, x, y, batch_size, epochs, verbose, callbacks, validation_split, validation_data, shuffle, class_weight, sample_weight, initial_epoch, steps_per_epoch, validation_steps, validation_batch_size, validation_freq, max_queue_size, workers, use_multiprocessing)\u001b[0m\n\u001b[0;32m   1799\u001b[0m \u001b[38;5;28;01mwith\u001b[39;00m tf\u001b[38;5;241m.\u001b[39mprofiler\u001b[38;5;241m.\u001b[39mexperimental\u001b[38;5;241m.\u001b[39mTrace(\n\u001b[0;32m   1800\u001b[0m     \u001b[38;5;124m\"\u001b[39m\u001b[38;5;124mtrain\u001b[39m\u001b[38;5;124m\"\u001b[39m,\n\u001b[0;32m   1801\u001b[0m     epoch_num\u001b[38;5;241m=\u001b[39mepoch,\n\u001b[1;32m   (...)\u001b[0m\n\u001b[0;32m   1804\u001b[0m     _r\u001b[38;5;241m=\u001b[39m\u001b[38;5;241m1\u001b[39m,\n\u001b[0;32m   1805\u001b[0m ):\n\u001b[0;32m   1806\u001b[0m     callbacks\u001b[38;5;241m.\u001b[39mon_train_batch_begin(step)\n\u001b[1;32m-> 1807\u001b[0m     tmp_logs \u001b[38;5;241m=\u001b[39m \u001b[38;5;28;43mself\u001b[39;49m\u001b[38;5;241;43m.\u001b[39;49m\u001b[43mtrain_function\u001b[49m\u001b[43m(\u001b[49m\u001b[43miterator\u001b[49m\u001b[43m)\u001b[49m\n\u001b[0;32m   1808\u001b[0m     \u001b[38;5;28;01mif\u001b[39;00m data_handler\u001b[38;5;241m.\u001b[39mshould_sync:\n\u001b[0;32m   1809\u001b[0m         context\u001b[38;5;241m.\u001b[39masync_wait()\n",
      "File \u001b[1;32m~\\AppData\\Local\\Programs\\Python\\Python311\\Lib\\site-packages\\tensorflow\\python\\util\\traceback_utils.py:150\u001b[0m, in \u001b[0;36mfilter_traceback.<locals>.error_handler\u001b[1;34m(*args, **kwargs)\u001b[0m\n\u001b[0;32m    148\u001b[0m filtered_tb \u001b[38;5;241m=\u001b[39m \u001b[38;5;28;01mNone\u001b[39;00m\n\u001b[0;32m    149\u001b[0m \u001b[38;5;28;01mtry\u001b[39;00m:\n\u001b[1;32m--> 150\u001b[0m   \u001b[38;5;28;01mreturn\u001b[39;00m \u001b[43mfn\u001b[49m\u001b[43m(\u001b[49m\u001b[38;5;241;43m*\u001b[39;49m\u001b[43margs\u001b[49m\u001b[43m,\u001b[49m\u001b[43m \u001b[49m\u001b[38;5;241;43m*\u001b[39;49m\u001b[38;5;241;43m*\u001b[39;49m\u001b[43mkwargs\u001b[49m\u001b[43m)\u001b[49m\n\u001b[0;32m    151\u001b[0m \u001b[38;5;28;01mexcept\u001b[39;00m \u001b[38;5;167;01mException\u001b[39;00m \u001b[38;5;28;01mas\u001b[39;00m e:\n\u001b[0;32m    152\u001b[0m   filtered_tb \u001b[38;5;241m=\u001b[39m _process_traceback_frames(e\u001b[38;5;241m.\u001b[39m__traceback__)\n",
      "File \u001b[1;32m~\\AppData\\Local\\Programs\\Python\\Python311\\Lib\\site-packages\\tensorflow\\python\\eager\\polymorphic_function\\polymorphic_function.py:832\u001b[0m, in \u001b[0;36mFunction.__call__\u001b[1;34m(self, *args, **kwds)\u001b[0m\n\u001b[0;32m    829\u001b[0m compiler \u001b[38;5;241m=\u001b[39m \u001b[38;5;124m\"\u001b[39m\u001b[38;5;124mxla\u001b[39m\u001b[38;5;124m\"\u001b[39m \u001b[38;5;28;01mif\u001b[39;00m \u001b[38;5;28mself\u001b[39m\u001b[38;5;241m.\u001b[39m_jit_compile \u001b[38;5;28;01melse\u001b[39;00m \u001b[38;5;124m\"\u001b[39m\u001b[38;5;124mnonXla\u001b[39m\u001b[38;5;124m\"\u001b[39m\n\u001b[0;32m    831\u001b[0m \u001b[38;5;28;01mwith\u001b[39;00m OptionalXlaContext(\u001b[38;5;28mself\u001b[39m\u001b[38;5;241m.\u001b[39m_jit_compile):\n\u001b[1;32m--> 832\u001b[0m   result \u001b[38;5;241m=\u001b[39m \u001b[38;5;28;43mself\u001b[39;49m\u001b[38;5;241;43m.\u001b[39;49m\u001b[43m_call\u001b[49m\u001b[43m(\u001b[49m\u001b[38;5;241;43m*\u001b[39;49m\u001b[43margs\u001b[49m\u001b[43m,\u001b[49m\u001b[43m \u001b[49m\u001b[38;5;241;43m*\u001b[39;49m\u001b[38;5;241;43m*\u001b[39;49m\u001b[43mkwds\u001b[49m\u001b[43m)\u001b[49m\n\u001b[0;32m    834\u001b[0m new_tracing_count \u001b[38;5;241m=\u001b[39m \u001b[38;5;28mself\u001b[39m\u001b[38;5;241m.\u001b[39mexperimental_get_tracing_count()\n\u001b[0;32m    835\u001b[0m without_tracing \u001b[38;5;241m=\u001b[39m (tracing_count \u001b[38;5;241m==\u001b[39m new_tracing_count)\n",
      "File \u001b[1;32m~\\AppData\\Local\\Programs\\Python\\Python311\\Lib\\site-packages\\tensorflow\\python\\eager\\polymorphic_function\\polymorphic_function.py:868\u001b[0m, in \u001b[0;36mFunction._call\u001b[1;34m(self, *args, **kwds)\u001b[0m\n\u001b[0;32m    865\u001b[0m   \u001b[38;5;28mself\u001b[39m\u001b[38;5;241m.\u001b[39m_lock\u001b[38;5;241m.\u001b[39mrelease()\n\u001b[0;32m    866\u001b[0m   \u001b[38;5;66;03m# In this case we have created variables on the first call, so we run the\u001b[39;00m\n\u001b[0;32m    867\u001b[0m   \u001b[38;5;66;03m# defunned version which is guaranteed to never create variables.\u001b[39;00m\n\u001b[1;32m--> 868\u001b[0m   \u001b[38;5;28;01mreturn\u001b[39;00m \u001b[43mtracing_compilation\u001b[49m\u001b[38;5;241;43m.\u001b[39;49m\u001b[43mcall_function\u001b[49m\u001b[43m(\u001b[49m\n\u001b[0;32m    869\u001b[0m \u001b[43m      \u001b[49m\u001b[43margs\u001b[49m\u001b[43m,\u001b[49m\u001b[43m \u001b[49m\u001b[43mkwds\u001b[49m\u001b[43m,\u001b[49m\u001b[43m \u001b[49m\u001b[38;5;28;43mself\u001b[39;49m\u001b[38;5;241;43m.\u001b[39;49m\u001b[43m_no_variable_creation_config\u001b[49m\n\u001b[0;32m    870\u001b[0m \u001b[43m  \u001b[49m\u001b[43m)\u001b[49m\n\u001b[0;32m    871\u001b[0m \u001b[38;5;28;01melif\u001b[39;00m \u001b[38;5;28mself\u001b[39m\u001b[38;5;241m.\u001b[39m_variable_creation_config \u001b[38;5;129;01mis\u001b[39;00m \u001b[38;5;129;01mnot\u001b[39;00m \u001b[38;5;28;01mNone\u001b[39;00m:\n\u001b[0;32m    872\u001b[0m   \u001b[38;5;66;03m# Release the lock early so that multiple threads can perform the call\u001b[39;00m\n\u001b[0;32m    873\u001b[0m   \u001b[38;5;66;03m# in parallel.\u001b[39;00m\n\u001b[0;32m    874\u001b[0m   \u001b[38;5;28mself\u001b[39m\u001b[38;5;241m.\u001b[39m_lock\u001b[38;5;241m.\u001b[39mrelease()\n",
      "File \u001b[1;32m~\\AppData\\Local\\Programs\\Python\\Python311\\Lib\\site-packages\\tensorflow\\python\\eager\\polymorphic_function\\tracing_compilation.py:139\u001b[0m, in \u001b[0;36mcall_function\u001b[1;34m(args, kwargs, tracing_options)\u001b[0m\n\u001b[0;32m    137\u001b[0m bound_args \u001b[38;5;241m=\u001b[39m function\u001b[38;5;241m.\u001b[39mfunction_type\u001b[38;5;241m.\u001b[39mbind(\u001b[38;5;241m*\u001b[39margs, \u001b[38;5;241m*\u001b[39m\u001b[38;5;241m*\u001b[39mkwargs)\n\u001b[0;32m    138\u001b[0m flat_inputs \u001b[38;5;241m=\u001b[39m function\u001b[38;5;241m.\u001b[39mfunction_type\u001b[38;5;241m.\u001b[39munpack_inputs(bound_args)\n\u001b[1;32m--> 139\u001b[0m \u001b[38;5;28;01mreturn\u001b[39;00m \u001b[43mfunction\u001b[49m\u001b[38;5;241;43m.\u001b[39;49m\u001b[43m_call_flat\u001b[49m\u001b[43m(\u001b[49m\u001b[43m  \u001b[49m\u001b[38;5;66;43;03m# pylint: disable=protected-access\u001b[39;49;00m\n\u001b[0;32m    140\u001b[0m \u001b[43m    \u001b[49m\u001b[43mflat_inputs\u001b[49m\u001b[43m,\u001b[49m\u001b[43m \u001b[49m\u001b[43mcaptured_inputs\u001b[49m\u001b[38;5;241;43m=\u001b[39;49m\u001b[43mfunction\u001b[49m\u001b[38;5;241;43m.\u001b[39;49m\u001b[43mcaptured_inputs\u001b[49m\n\u001b[0;32m    141\u001b[0m \u001b[43m\u001b[49m\u001b[43m)\u001b[49m\n",
      "File \u001b[1;32m~\\AppData\\Local\\Programs\\Python\\Python311\\Lib\\site-packages\\tensorflow\\python\\eager\\polymorphic_function\\concrete_function.py:1323\u001b[0m, in \u001b[0;36mConcreteFunction._call_flat\u001b[1;34m(self, tensor_inputs, captured_inputs)\u001b[0m\n\u001b[0;32m   1319\u001b[0m possible_gradient_type \u001b[38;5;241m=\u001b[39m gradients_util\u001b[38;5;241m.\u001b[39mPossibleTapeGradientTypes(args)\n\u001b[0;32m   1320\u001b[0m \u001b[38;5;28;01mif\u001b[39;00m (possible_gradient_type \u001b[38;5;241m==\u001b[39m gradients_util\u001b[38;5;241m.\u001b[39mPOSSIBLE_GRADIENT_TYPES_NONE\n\u001b[0;32m   1321\u001b[0m     \u001b[38;5;129;01mand\u001b[39;00m executing_eagerly):\n\u001b[0;32m   1322\u001b[0m   \u001b[38;5;66;03m# No tape is watching; skip to running the function.\u001b[39;00m\n\u001b[1;32m-> 1323\u001b[0m   \u001b[38;5;28;01mreturn\u001b[39;00m \u001b[38;5;28;43mself\u001b[39;49m\u001b[38;5;241;43m.\u001b[39;49m\u001b[43m_inference_function\u001b[49m\u001b[38;5;241;43m.\u001b[39;49m\u001b[43mcall_preflattened\u001b[49m\u001b[43m(\u001b[49m\u001b[43margs\u001b[49m\u001b[43m)\u001b[49m\n\u001b[0;32m   1324\u001b[0m forward_backward \u001b[38;5;241m=\u001b[39m \u001b[38;5;28mself\u001b[39m\u001b[38;5;241m.\u001b[39m_select_forward_and_backward_functions(\n\u001b[0;32m   1325\u001b[0m     args,\n\u001b[0;32m   1326\u001b[0m     possible_gradient_type,\n\u001b[0;32m   1327\u001b[0m     executing_eagerly)\n\u001b[0;32m   1328\u001b[0m forward_function, args_with_tangents \u001b[38;5;241m=\u001b[39m forward_backward\u001b[38;5;241m.\u001b[39mforward()\n",
      "File \u001b[1;32m~\\AppData\\Local\\Programs\\Python\\Python311\\Lib\\site-packages\\tensorflow\\python\\eager\\polymorphic_function\\atomic_function.py:216\u001b[0m, in \u001b[0;36mAtomicFunction.call_preflattened\u001b[1;34m(self, args)\u001b[0m\n\u001b[0;32m    214\u001b[0m \u001b[38;5;28;01mdef\u001b[39;00m \u001b[38;5;21mcall_preflattened\u001b[39m(\u001b[38;5;28mself\u001b[39m, args: Sequence[core\u001b[38;5;241m.\u001b[39mTensor]) \u001b[38;5;241m-\u001b[39m\u001b[38;5;241m>\u001b[39m Any:\n\u001b[0;32m    215\u001b[0m \u001b[38;5;250m  \u001b[39m\u001b[38;5;124;03m\"\"\"Calls with flattened tensor inputs and returns the structured output.\"\"\"\u001b[39;00m\n\u001b[1;32m--> 216\u001b[0m   flat_outputs \u001b[38;5;241m=\u001b[39m \u001b[38;5;28;43mself\u001b[39;49m\u001b[38;5;241;43m.\u001b[39;49m\u001b[43mcall_flat\u001b[49m\u001b[43m(\u001b[49m\u001b[38;5;241;43m*\u001b[39;49m\u001b[43margs\u001b[49m\u001b[43m)\u001b[49m\n\u001b[0;32m    217\u001b[0m   \u001b[38;5;28;01mreturn\u001b[39;00m \u001b[38;5;28mself\u001b[39m\u001b[38;5;241m.\u001b[39mfunction_type\u001b[38;5;241m.\u001b[39mpack_output(flat_outputs)\n",
      "File \u001b[1;32m~\\AppData\\Local\\Programs\\Python\\Python311\\Lib\\site-packages\\tensorflow\\python\\eager\\polymorphic_function\\atomic_function.py:251\u001b[0m, in \u001b[0;36mAtomicFunction.call_flat\u001b[1;34m(self, *args)\u001b[0m\n\u001b[0;32m    249\u001b[0m \u001b[38;5;28;01mwith\u001b[39;00m record\u001b[38;5;241m.\u001b[39mstop_recording():\n\u001b[0;32m    250\u001b[0m   \u001b[38;5;28;01mif\u001b[39;00m \u001b[38;5;28mself\u001b[39m\u001b[38;5;241m.\u001b[39m_bound_context\u001b[38;5;241m.\u001b[39mexecuting_eagerly():\n\u001b[1;32m--> 251\u001b[0m     outputs \u001b[38;5;241m=\u001b[39m \u001b[38;5;28;43mself\u001b[39;49m\u001b[38;5;241;43m.\u001b[39;49m\u001b[43m_bound_context\u001b[49m\u001b[38;5;241;43m.\u001b[39;49m\u001b[43mcall_function\u001b[49m\u001b[43m(\u001b[49m\n\u001b[0;32m    252\u001b[0m \u001b[43m        \u001b[49m\u001b[38;5;28;43mself\u001b[39;49m\u001b[38;5;241;43m.\u001b[39;49m\u001b[43mname\u001b[49m\u001b[43m,\u001b[49m\n\u001b[0;32m    253\u001b[0m \u001b[43m        \u001b[49m\u001b[38;5;28;43mlist\u001b[39;49m\u001b[43m(\u001b[49m\u001b[43margs\u001b[49m\u001b[43m)\u001b[49m\u001b[43m,\u001b[49m\n\u001b[0;32m    254\u001b[0m \u001b[43m        \u001b[49m\u001b[38;5;28;43mlen\u001b[39;49m\u001b[43m(\u001b[49m\u001b[38;5;28;43mself\u001b[39;49m\u001b[38;5;241;43m.\u001b[39;49m\u001b[43mfunction_type\u001b[49m\u001b[38;5;241;43m.\u001b[39;49m\u001b[43mflat_outputs\u001b[49m\u001b[43m)\u001b[49m\u001b[43m,\u001b[49m\n\u001b[0;32m    255\u001b[0m \u001b[43m    \u001b[49m\u001b[43m)\u001b[49m\n\u001b[0;32m    256\u001b[0m   \u001b[38;5;28;01melse\u001b[39;00m:\n\u001b[0;32m    257\u001b[0m     outputs \u001b[38;5;241m=\u001b[39m make_call_op_in_graph(\n\u001b[0;32m    258\u001b[0m         \u001b[38;5;28mself\u001b[39m,\n\u001b[0;32m    259\u001b[0m         \u001b[38;5;28mlist\u001b[39m(args),\n\u001b[0;32m    260\u001b[0m         \u001b[38;5;28mself\u001b[39m\u001b[38;5;241m.\u001b[39m_bound_context\u001b[38;5;241m.\u001b[39mfunction_call_options\u001b[38;5;241m.\u001b[39mas_attrs(),\n\u001b[0;32m    261\u001b[0m     )\n",
      "File \u001b[1;32m~\\AppData\\Local\\Programs\\Python\\Python311\\Lib\\site-packages\\tensorflow\\python\\eager\\context.py:1486\u001b[0m, in \u001b[0;36mContext.call_function\u001b[1;34m(self, name, tensor_inputs, num_outputs)\u001b[0m\n\u001b[0;32m   1484\u001b[0m cancellation_context \u001b[38;5;241m=\u001b[39m cancellation\u001b[38;5;241m.\u001b[39mcontext()\n\u001b[0;32m   1485\u001b[0m \u001b[38;5;28;01mif\u001b[39;00m cancellation_context \u001b[38;5;129;01mis\u001b[39;00m \u001b[38;5;28;01mNone\u001b[39;00m:\n\u001b[1;32m-> 1486\u001b[0m   outputs \u001b[38;5;241m=\u001b[39m \u001b[43mexecute\u001b[49m\u001b[38;5;241;43m.\u001b[39;49m\u001b[43mexecute\u001b[49m\u001b[43m(\u001b[49m\n\u001b[0;32m   1487\u001b[0m \u001b[43m      \u001b[49m\u001b[43mname\u001b[49m\u001b[38;5;241;43m.\u001b[39;49m\u001b[43mdecode\u001b[49m\u001b[43m(\u001b[49m\u001b[38;5;124;43m\"\u001b[39;49m\u001b[38;5;124;43mutf-8\u001b[39;49m\u001b[38;5;124;43m\"\u001b[39;49m\u001b[43m)\u001b[49m\u001b[43m,\u001b[49m\n\u001b[0;32m   1488\u001b[0m \u001b[43m      \u001b[49m\u001b[43mnum_outputs\u001b[49m\u001b[38;5;241;43m=\u001b[39;49m\u001b[43mnum_outputs\u001b[49m\u001b[43m,\u001b[49m\n\u001b[0;32m   1489\u001b[0m \u001b[43m      \u001b[49m\u001b[43minputs\u001b[49m\u001b[38;5;241;43m=\u001b[39;49m\u001b[43mtensor_inputs\u001b[49m\u001b[43m,\u001b[49m\n\u001b[0;32m   1490\u001b[0m \u001b[43m      \u001b[49m\u001b[43mattrs\u001b[49m\u001b[38;5;241;43m=\u001b[39;49m\u001b[43mattrs\u001b[49m\u001b[43m,\u001b[49m\n\u001b[0;32m   1491\u001b[0m \u001b[43m      \u001b[49m\u001b[43mctx\u001b[49m\u001b[38;5;241;43m=\u001b[39;49m\u001b[38;5;28;43mself\u001b[39;49m\u001b[43m,\u001b[49m\n\u001b[0;32m   1492\u001b[0m \u001b[43m  \u001b[49m\u001b[43m)\u001b[49m\n\u001b[0;32m   1493\u001b[0m \u001b[38;5;28;01melse\u001b[39;00m:\n\u001b[0;32m   1494\u001b[0m   outputs \u001b[38;5;241m=\u001b[39m execute\u001b[38;5;241m.\u001b[39mexecute_with_cancellation(\n\u001b[0;32m   1495\u001b[0m       name\u001b[38;5;241m.\u001b[39mdecode(\u001b[38;5;124m\"\u001b[39m\u001b[38;5;124mutf-8\u001b[39m\u001b[38;5;124m\"\u001b[39m),\n\u001b[0;32m   1496\u001b[0m       num_outputs\u001b[38;5;241m=\u001b[39mnum_outputs,\n\u001b[1;32m   (...)\u001b[0m\n\u001b[0;32m   1500\u001b[0m       cancellation_manager\u001b[38;5;241m=\u001b[39mcancellation_context,\n\u001b[0;32m   1501\u001b[0m   )\n",
      "File \u001b[1;32m~\\AppData\\Local\\Programs\\Python\\Python311\\Lib\\site-packages\\tensorflow\\python\\eager\\execute.py:53\u001b[0m, in \u001b[0;36mquick_execute\u001b[1;34m(op_name, num_outputs, inputs, attrs, ctx, name)\u001b[0m\n\u001b[0;32m     51\u001b[0m \u001b[38;5;28;01mtry\u001b[39;00m:\n\u001b[0;32m     52\u001b[0m   ctx\u001b[38;5;241m.\u001b[39mensure_initialized()\n\u001b[1;32m---> 53\u001b[0m   tensors \u001b[38;5;241m=\u001b[39m \u001b[43mpywrap_tfe\u001b[49m\u001b[38;5;241;43m.\u001b[39;49m\u001b[43mTFE_Py_Execute\u001b[49m\u001b[43m(\u001b[49m\u001b[43mctx\u001b[49m\u001b[38;5;241;43m.\u001b[39;49m\u001b[43m_handle\u001b[49m\u001b[43m,\u001b[49m\u001b[43m \u001b[49m\u001b[43mdevice_name\u001b[49m\u001b[43m,\u001b[49m\u001b[43m \u001b[49m\u001b[43mop_name\u001b[49m\u001b[43m,\u001b[49m\n\u001b[0;32m     54\u001b[0m \u001b[43m                                      \u001b[49m\u001b[43minputs\u001b[49m\u001b[43m,\u001b[49m\u001b[43m \u001b[49m\u001b[43mattrs\u001b[49m\u001b[43m,\u001b[49m\u001b[43m \u001b[49m\u001b[43mnum_outputs\u001b[49m\u001b[43m)\u001b[49m\n\u001b[0;32m     55\u001b[0m \u001b[38;5;28;01mexcept\u001b[39;00m core\u001b[38;5;241m.\u001b[39m_NotOkStatusException \u001b[38;5;28;01mas\u001b[39;00m e:\n\u001b[0;32m     56\u001b[0m   \u001b[38;5;28;01mif\u001b[39;00m name \u001b[38;5;129;01mis\u001b[39;00m \u001b[38;5;129;01mnot\u001b[39;00m \u001b[38;5;28;01mNone\u001b[39;00m:\n",
      "\u001b[1;31mKeyboardInterrupt\u001b[0m: "
     ]
    }
   ],
   "source": [
    "# Train the model with the training and validation sets\n",
    "history = model.fit(\n",
    "    train_generator,\n",
    "    steps_per_epoch=train_generator.samples // train_generator.batch_size,\n",
    "    epochs=15,  # Increase epochs for better training\n",
    "    validation_data=validation_generator,\n",
    "    validation_steps=validation_generator.samples // validation_generator.batch_size\n",
    ")\n"
   ]
  },
  {
   "cell_type": "code",
   "execution_count": null,
   "id": "b1a8ac53",
   "metadata": {},
   "outputs": [],
   "source": [
    "#Model Saving"
   ]
  },
  {
   "cell_type": "code",
   "execution_count": 41,
   "id": "096e7541",
   "metadata": {},
   "outputs": [],
   "source": [
    "model.save(\"../models/plant_disease_prediction.h5\")"
   ]
  },
  {
   "cell_type": "code",
   "execution_count": null,
   "id": "adc927bc",
   "metadata": {},
   "outputs": [],
   "source": [
    "\n",
    "# Display the Training and Validation Accuracy/Loss Plots"
   ]
  },
  {
   "cell_type": "code",
   "execution_count": 42,
   "id": "9aecee2a",
   "metadata": {},
   "outputs": [
    {
     "ename": "NameError",
     "evalue": "name 'history' is not defined",
     "output_type": "error",
     "traceback": [
      "\u001b[1;31m---------------------------------------------------------------------------\u001b[0m",
      "\u001b[1;31mNameError\u001b[0m                                 Traceback (most recent call last)",
      "Cell \u001b[1;32mIn[42], line 1\u001b[0m\n\u001b[1;32m----> 1\u001b[0m acc \u001b[38;5;241m=\u001b[39m \u001b[43mhistory\u001b[49m\u001b[38;5;241m.\u001b[39mhistory[\u001b[38;5;124m'\u001b[39m\u001b[38;5;124maccuracy\u001b[39m\u001b[38;5;124m'\u001b[39m]\n\u001b[0;32m      2\u001b[0m val_acc \u001b[38;5;241m=\u001b[39m history\u001b[38;5;241m.\u001b[39mhistory[\u001b[38;5;124m'\u001b[39m\u001b[38;5;124mval_accuracy\u001b[39m\u001b[38;5;124m'\u001b[39m]\n\u001b[0;32m      4\u001b[0m loss \u001b[38;5;241m=\u001b[39m history\u001b[38;5;241m.\u001b[39mhistory[\u001b[38;5;124m'\u001b[39m\u001b[38;5;124mloss\u001b[39m\u001b[38;5;124m'\u001b[39m]\n",
      "\u001b[1;31mNameError\u001b[0m: name 'history' is not defined"
     ]
    }
   ],
   "source": [
    "acc = history.history['accuracy']\n",
    "val_acc = history.history['val_accuracy']\n",
    "\n",
    "loss = history.history['loss']\n",
    "val_loss = history.history['val_loss']\n",
    "\n",
    "epochs_range = range(epochs)\n",
    "\n",
    "plt.figure(figsize=(8, 8))\n",
    "plt.subplot(1, 2, 1)\n",
    "plt.plot(epochs_range, acc, label='Training Accuracy')\n",
    "plt.plot(epochs_range, val_acc, label='Validation Accuracy')\n",
    "plt.legend(loc='lower right')\n",
    "plt.title('Training and Validation Accuracy')\n",
    "\n",
    "plt.subplot(1, 2, 2)\n",
    "plt.plot(epochs_range, loss, label='Training Loss')\n",
    "plt.plot(epochs_range, val_loss, label='Validation Loss')\n",
    "plt.legend(loc='upper right')\n",
    "plt.title('Training and Validation Loss')\n",
    "plt.show()\n"
   ]
  },
  {
   "cell_type": "code",
   "execution_count": null,
   "id": "de6ec47b",
   "metadata": {},
   "outputs": [],
   "source": []
  }
 ],
 "metadata": {
  "kernelspec": {
   "display_name": "Python 3 (ipykernel)",
   "language": "python",
   "name": "python3"
  },
  "language_info": {
   "codemirror_mode": {
    "name": "ipython",
    "version": 3
   },
   "file_extension": ".py",
   "mimetype": "text/x-python",
   "name": "python",
   "nbconvert_exporter": "python",
   "pygments_lexer": "ipython3",
   "version": "3.11.0"
  }
 },
 "nbformat": 4,
 "nbformat_minor": 5
}
